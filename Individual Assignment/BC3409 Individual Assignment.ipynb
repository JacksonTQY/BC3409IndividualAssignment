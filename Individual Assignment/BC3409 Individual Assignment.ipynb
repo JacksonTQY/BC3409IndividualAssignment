{
 "cells": [
  {
   "cell_type": "code",
   "execution_count": 1,
   "metadata": {},
   "outputs": [],
   "source": [
    "import pandas as pd\n",
    "import numpy as np\n",
    "from matplotlib import pyplot as plt\n",
    "import seaborn as sns\n",
    "from scipy import stats\n",
    "from statsmodels.stats.outliers_influence import variance_inflation_factor\n",
    "from sklearn.preprocessing import StandardScaler\n",
    "from sklearn.model_selection import train_test_split, GridSearchCV\n",
    "from sklearn.linear_model import LogisticRegression\n",
    "from sklearn.metrics import confusion_matrix, ConfusionMatrixDisplay, accuracy_score\n",
    "import statsmodels.api as sm\n",
    "from sklearn import tree\n",
    "from sklearn.ensemble import RandomForestClassifier, GradientBoostingClassifier\n",
    "from keras.models import Sequential, load_model\n",
    "from keras.layers import Dense, Dropout\n",
    "from keras.wrappers.scikit_learn import KerasClassifier\n",
    "from sklearn.neural_network import MLPClassifier\n",
    "import joblib"
   ]
  },
  {
   "cell_type": "code",
   "execution_count": 2,
   "metadata": {},
   "outputs": [],
   "source": [
    "df = pd.read_csv(\"Credit Card Default II (balance).csv\")"
   ]
  },
  {
   "cell_type": "code",
   "execution_count": 3,
   "metadata": {},
   "outputs": [],
   "source": [
    "pd.set_option('display.max_columns', None)"
   ]
  },
  {
   "cell_type": "code",
   "execution_count": 4,
   "metadata": {},
   "outputs": [
    {
     "data": {
      "text/plain": [
       "(3428, 4)"
      ]
     },
     "execution_count": 4,
     "metadata": {},
     "output_type": "execute_result"
    }
   ],
   "source": [
    "df.shape"
   ]
  },
  {
   "cell_type": "code",
   "execution_count": 5,
   "metadata": {},
   "outputs": [
    {
     "data": {
      "text/html": [
       "<div>\n",
       "<style scoped>\n",
       "    .dataframe tbody tr th:only-of-type {\n",
       "        vertical-align: middle;\n",
       "    }\n",
       "\n",
       "    .dataframe tbody tr th {\n",
       "        vertical-align: top;\n",
       "    }\n",
       "\n",
       "    .dataframe thead th {\n",
       "        text-align: right;\n",
       "    }\n",
       "</style>\n",
       "<table border=\"1\" class=\"dataframe\">\n",
       "  <thead>\n",
       "    <tr style=\"text-align: right;\">\n",
       "      <th></th>\n",
       "      <th>income</th>\n",
       "      <th>age</th>\n",
       "      <th>loan</th>\n",
       "      <th>default</th>\n",
       "    </tr>\n",
       "  </thead>\n",
       "  <tbody>\n",
       "    <tr>\n",
       "      <th>0</th>\n",
       "      <td>66155.92510</td>\n",
       "      <td>59.017015</td>\n",
       "      <td>8106.532131</td>\n",
       "      <td>0</td>\n",
       "    </tr>\n",
       "    <tr>\n",
       "      <th>1</th>\n",
       "      <td>34415.15397</td>\n",
       "      <td>48.117153</td>\n",
       "      <td>6564.745018</td>\n",
       "      <td>0</td>\n",
       "    </tr>\n",
       "    <tr>\n",
       "      <th>2</th>\n",
       "      <td>57317.17006</td>\n",
       "      <td>63.108049</td>\n",
       "      <td>8020.953296</td>\n",
       "      <td>0</td>\n",
       "    </tr>\n",
       "    <tr>\n",
       "      <th>3</th>\n",
       "      <td>42709.53420</td>\n",
       "      <td>45.751972</td>\n",
       "      <td>6103.642260</td>\n",
       "      <td>0</td>\n",
       "    </tr>\n",
       "    <tr>\n",
       "      <th>4</th>\n",
       "      <td>66952.68885</td>\n",
       "      <td>18.584336</td>\n",
       "      <td>8770.099235</td>\n",
       "      <td>1</td>\n",
       "    </tr>\n",
       "  </tbody>\n",
       "</table>\n",
       "</div>"
      ],
      "text/plain": [
       "        income        age         loan  default\n",
       "0  66155.92510  59.017015  8106.532131        0\n",
       "1  34415.15397  48.117153  6564.745018        0\n",
       "2  57317.17006  63.108049  8020.953296        0\n",
       "3  42709.53420  45.751972  6103.642260        0\n",
       "4  66952.68885  18.584336  8770.099235        1"
      ]
     },
     "execution_count": 5,
     "metadata": {},
     "output_type": "execute_result"
    }
   ],
   "source": [
    "df.head()"
   ]
  },
  {
   "cell_type": "markdown",
   "metadata": {},
   "source": [
    "# Data Cleaning and Exploration"
   ]
  },
  {
   "cell_type": "code",
   "execution_count": 6,
   "metadata": {},
   "outputs": [
    {
     "data": {
      "text/html": [
       "<div>\n",
       "<style scoped>\n",
       "    .dataframe tbody tr th:only-of-type {\n",
       "        vertical-align: middle;\n",
       "    }\n",
       "\n",
       "    .dataframe tbody tr th {\n",
       "        vertical-align: top;\n",
       "    }\n",
       "\n",
       "    .dataframe thead th {\n",
       "        text-align: right;\n",
       "    }\n",
       "</style>\n",
       "<table border=\"1\" class=\"dataframe\">\n",
       "  <thead>\n",
       "    <tr style=\"text-align: right;\">\n",
       "      <th></th>\n",
       "      <th>income</th>\n",
       "      <th>age</th>\n",
       "      <th>loan</th>\n",
       "      <th>default</th>\n",
       "    </tr>\n",
       "  </thead>\n",
       "  <tbody>\n",
       "    <tr>\n",
       "      <th>count</th>\n",
       "      <td>3428.000000</td>\n",
       "      <td>3428.000000</td>\n",
       "      <td>3428.000000</td>\n",
       "      <td>3428.000000</td>\n",
       "    </tr>\n",
       "    <tr>\n",
       "      <th>mean</th>\n",
       "      <td>45136.875975</td>\n",
       "      <td>34.795950</td>\n",
       "      <td>5591.986695</td>\n",
       "      <td>0.500000</td>\n",
       "    </tr>\n",
       "    <tr>\n",
       "      <th>std</th>\n",
       "      <td>14425.486619</td>\n",
       "      <td>12.840055</td>\n",
       "      <td>3174.522430</td>\n",
       "      <td>0.500073</td>\n",
       "    </tr>\n",
       "    <tr>\n",
       "      <th>min</th>\n",
       "      <td>20014.489470</td>\n",
       "      <td>-52.423280</td>\n",
       "      <td>1.377630</td>\n",
       "      <td>0.000000</td>\n",
       "    </tr>\n",
       "    <tr>\n",
       "      <th>25%</th>\n",
       "      <td>32827.211177</td>\n",
       "      <td>25.171939</td>\n",
       "      <td>3103.357467</td>\n",
       "      <td>0.000000</td>\n",
       "    </tr>\n",
       "    <tr>\n",
       "      <th>50%</th>\n",
       "      <td>45546.632873</td>\n",
       "      <td>30.086842</td>\n",
       "      <td>5540.305046</td>\n",
       "      <td>0.500000</td>\n",
       "    </tr>\n",
       "    <tr>\n",
       "      <th>75%</th>\n",
       "      <td>57514.794130</td>\n",
       "      <td>44.369461</td>\n",
       "      <td>7809.377943</td>\n",
       "      <td>1.000000</td>\n",
       "    </tr>\n",
       "    <tr>\n",
       "      <th>max</th>\n",
       "      <td>69995.685580</td>\n",
       "      <td>63.971796</td>\n",
       "      <td>13766.051240</td>\n",
       "      <td>1.000000</td>\n",
       "    </tr>\n",
       "  </tbody>\n",
       "</table>\n",
       "</div>"
      ],
      "text/plain": [
       "             income          age          loan      default\n",
       "count   3428.000000  3428.000000   3428.000000  3428.000000\n",
       "mean   45136.875975    34.795950   5591.986695     0.500000\n",
       "std    14425.486619    12.840055   3174.522430     0.500073\n",
       "min    20014.489470   -52.423280      1.377630     0.000000\n",
       "25%    32827.211177    25.171939   3103.357467     0.000000\n",
       "50%    45546.632873    30.086842   5540.305046     0.500000\n",
       "75%    57514.794130    44.369461   7809.377943     1.000000\n",
       "max    69995.685580    63.971796  13766.051240     1.000000"
      ]
     },
     "execution_count": 6,
     "metadata": {},
     "output_type": "execute_result"
    }
   ],
   "source": [
    "df.describe()\n",
    "# Default is treated as numeric, strictly speaking it should be categorical\n",
    "# Age has negative values and decimal values"
   ]
  },
  {
   "cell_type": "code",
   "execution_count": 7,
   "metadata": {},
   "outputs": [
    {
     "data": {
      "text/plain": [
       "income     float64\n",
       "age        float64\n",
       "loan       float64\n",
       "default      int64\n",
       "dtype: object"
      ]
     },
     "execution_count": 7,
     "metadata": {},
     "output_type": "execute_result"
    }
   ],
   "source": [
    "df.dtypes\n",
    "# Age is treated as a float and not int, which is strange\n",
    "# As mentioned, default is treated as numeric (int) instead of categorical"
   ]
  },
  {
   "cell_type": "code",
   "execution_count": 8,
   "metadata": {},
   "outputs": [],
   "source": [
    "df.default = df.default.astype(\"category\")"
   ]
  },
  {
   "cell_type": "code",
   "execution_count": 9,
   "metadata": {},
   "outputs": [
    {
     "data": {
      "text/plain": [
       "income     0\n",
       "age        0\n",
       "loan       0\n",
       "default    0\n",
       "dtype: int64"
      ]
     },
     "execution_count": 9,
     "metadata": {},
     "output_type": "execute_result"
    }
   ],
   "source": [
    "df.isna().sum() # No NA values"
   ]
  },
  {
   "cell_type": "code",
   "execution_count": 10,
   "metadata": {},
   "outputs": [
    {
     "data": {
      "text/plain": [
       "0"
      ]
     },
     "execution_count": 10,
     "metadata": {},
     "output_type": "execute_result"
    }
   ],
   "source": [
    "df.duplicated().sum() # No duplicate rows"
   ]
  },
  {
   "cell_type": "markdown",
   "metadata": {},
   "source": [
    "Income"
   ]
  },
  {
   "cell_type": "code",
   "execution_count": 11,
   "metadata": {},
   "outputs": [
    {
     "data": {
      "text/plain": [
       "<AxesSubplot:xlabel='income'>"
      ]
     },
     "execution_count": 11,
     "metadata": {},
     "output_type": "execute_result"
    },
    {
     "data": {
      "image/png": "[encoded data removed]",
      "text/plain": [
       "<Figure size 432x288 with 1 Axes>"
      ]
     },
     "metadata": {
      "needs_background": "light"
     },
     "output_type": "display_data"
    }
   ],
   "source": [
    "sns.boxplot(data=df, x=\"income\")\n",
    "# No outliers, median about 45000"
   ]
  },
  {
   "cell_type": "code",
   "execution_count": 12,
   "metadata": {},
   "outputs": [
    {
     "data": {
      "text/plain": [
       "<AxesSubplot:xlabel='income', ylabel='Count'>"
      ]
     },
     "execution_count": 12,
     "metadata": {},
     "output_type": "execute_result"
    },
    {
     "data": {
      "image/png": "[encoded data removed]",
      "text/plain": [
       "<Figure size 432x288 with 1 Axes>"
      ]
     },
     "metadata": {
      "needs_background": "light"
     },
     "output_type": "display_data"
    }
   ],
   "source": [
    "sns.histplot(data=df, x=\"income\")"
   ]
  },
  {
   "cell_type": "markdown",
   "metadata": {},
   "source": [
    "Age"
   ]
  },
  {
   "cell_type": "code",
   "execution_count": 13,
   "metadata": {},
   "outputs": [
    {
     "data": {
      "text/plain": [
       "<AxesSubplot:xlabel='age', ylabel='Count'>"
      ]
     },
     "execution_count": 13,
     "metadata": {},
     "output_type": "execute_result"
    },
    {
     "data": {
      "image/png": "[encoded data removed]",
      "text/plain": [
       "<Figure size 432x288 with 1 Axes>"
      ]
     },
     "metadata": {
      "needs_background": "light"
     },
     "output_type": "display_data"
    }
   ],
   "source": [
    "sns.histplot(data=df, x=\"age\")\n",
    "# Most people are around 30 years old"
   ]
  },
  {
   "cell_type": "code",
   "execution_count": 14,
   "metadata": {},
   "outputs": [
    {
     "data": {
      "text/plain": [
       "<AxesSubplot:xlabel='age'>"
      ]
     },
     "execution_count": 14,
     "metadata": {},
     "output_type": "execute_result"
    },
    {
     "data": {
      "image/png": "[encoded data removed]",
      "text/plain": [
       "<Figure size 432x288 with 1 Axes>"
      ]
     },
     "metadata": {
      "needs_background": "light"
     },
     "output_type": "display_data"
    }
   ],
   "source": [
    "sns.boxplot(data=df, x=\"age\")\n",
    "# 3 negative values and outliers, median age about 30"
   ]
  },
  {
   "cell_type": "code",
   "execution_count": 15,
   "metadata": {},
   "outputs": [
    {
     "data": {
      "text/html": [
       "<div>\n",
       "<style scoped>\n",
       "    .dataframe tbody tr th:only-of-type {\n",
       "        vertical-align: middle;\n",
       "    }\n",
       "\n",
       "    .dataframe tbody tr th {\n",
       "        vertical-align: top;\n",
       "    }\n",
       "\n",
       "    .dataframe thead th {\n",
       "        text-align: right;\n",
       "    }\n",
       "</style>\n",
       "<table border=\"1\" class=\"dataframe\">\n",
       "  <thead>\n",
       "    <tr style=\"text-align: right;\">\n",
       "      <th></th>\n",
       "      <th>income</th>\n",
       "      <th>age</th>\n",
       "      <th>loan</th>\n",
       "      <th>default</th>\n",
       "    </tr>\n",
       "  </thead>\n",
       "  <tbody>\n",
       "    <tr>\n",
       "      <th>15</th>\n",
       "      <td>50501.72669</td>\n",
       "      <td>-28.218361</td>\n",
       "      <td>3977.287432</td>\n",
       "      <td>0</td>\n",
       "    </tr>\n",
       "    <tr>\n",
       "      <th>21</th>\n",
       "      <td>32197.62070</td>\n",
       "      <td>-52.423280</td>\n",
       "      <td>4244.057136</td>\n",
       "      <td>0</td>\n",
       "    </tr>\n",
       "    <tr>\n",
       "      <th>26</th>\n",
       "      <td>63287.03891</td>\n",
       "      <td>-36.496976</td>\n",
       "      <td>9595.286289</td>\n",
       "      <td>0</td>\n",
       "    </tr>\n",
       "  </tbody>\n",
       "</table>\n",
       "</div>"
      ],
      "text/plain": [
       "         income        age         loan default\n",
       "15  50501.72669 -28.218361  3977.287432       0\n",
       "21  32197.62070 -52.423280  4244.057136       0\n",
       "26  63287.03891 -36.496976  9595.286289       0"
      ]
     },
     "execution_count": 15,
     "metadata": {},
     "output_type": "execute_result"
    }
   ],
   "source": [
    "df[df.age < 0]\n",
    "# Only 3 rows out of 3000, can remove"
   ]
  },
  {
   "cell_type": "code",
   "execution_count": 16,
   "metadata": {},
   "outputs": [],
   "source": [
    "df = df[df.age > 0]\n",
    "# Drop the 3 rows"
   ]
  },
  {
   "cell_type": "markdown",
   "metadata": {},
   "source": [
    "Loan"
   ]
  },
  {
   "cell_type": "code",
   "execution_count": 17,
   "metadata": {},
   "outputs": [
    {
     "data": {
      "text/plain": [
       "<AxesSubplot:xlabel='loan'>"
      ]
     },
     "execution_count": 17,
     "metadata": {},
     "output_type": "execute_result"
    },
    {
     "data": {
      "image/png": "[encoded data removed]",
      "text/plain": [
       "<Figure size 432x288 with 1 Axes>"
      ]
     },
     "metadata": {
      "needs_background": "light"
     },
     "output_type": "display_data"
    }
   ],
   "source": [
    "sns.boxplot(data=df, x=\"loan\")\n",
    "# No outliers, median close to 6000"
   ]
  },
  {
   "cell_type": "code",
   "execution_count": 18,
   "metadata": {},
   "outputs": [
    {
     "data": {
      "text/plain": [
       "<AxesSubplot:xlabel='loan', ylabel='Count'>"
      ]
     },
     "execution_count": 18,
     "metadata": {},
     "output_type": "execute_result"
    },
    {
     "data": {
      "image/png": "[encoded data removed]",
      "text/plain": [
       "<Figure size 432x288 with 1 Axes>"
      ]
     },
     "metadata": {
      "needs_background": "light"
     },
     "output_type": "display_data"
    }
   ],
   "source": [
    "sns.histplot(data=df, x=\"loan\")"
   ]
  },
  {
   "cell_type": "markdown",
   "metadata": {},
   "source": [
    "Default"
   ]
  },
  {
   "cell_type": "code",
   "execution_count": 19,
   "metadata": {},
   "outputs": [
    {
     "data": {
      "text/plain": [
       "<AxesSubplot:xlabel='default', ylabel='count'>"
      ]
     },
     "execution_count": 19,
     "metadata": {},
     "output_type": "execute_result"
    },
    {
     "data": {
      "image/png": "[encoded data removed]",
      "text/plain": [
       "<Figure size 432x288 with 1 Axes>"
      ]
     },
     "metadata": {
      "needs_background": "light"
     },
     "output_type": "display_data"
    }
   ],
   "source": [
    "sns.countplot(data=df, x=\"default\") # Balanced"
   ]
  },
  {
   "cell_type": "code",
   "execution_count": 20,
   "metadata": {},
   "outputs": [
    {
     "data": {
      "text/plain": [
       "1    1714\n",
       "0    1711\n",
       "Name: default, dtype: int64"
      ]
     },
     "execution_count": 20,
     "metadata": {},
     "output_type": "execute_result"
    }
   ],
   "source": [
    "df.default.value_counts() # Precisely balanced"
   ]
  },
  {
   "cell_type": "markdown",
   "metadata": {},
   "source": [
    "### Other Exploration and Visualisation "
   ]
  },
  {
   "cell_type": "code",
   "execution_count": 21,
   "metadata": {},
   "outputs": [
    {
     "data": {
      "text/plain": [
       "<AxesSubplot:xlabel='age', ylabel='Density'>"
      ]
     },
     "execution_count": 21,
     "metadata": {},
     "output_type": "execute_result"
    },
    {
     "data": {
      "image/png": "[encoded data removed]",
      "text/plain": [
       "<Figure size 432x288 with 1 Axes>"
      ]
     },
     "metadata": {
      "needs_background": "light"
     },
     "output_type": "display_data"
    }
   ],
   "source": [
    "sns.kdeplot(data=df,x=\"age\", hue=\"default\", clip=(min(df.age),max(df.age)))\n",
    "# People who default are generally younger at around 25-30"
   ]
  },
  {
   "cell_type": "code",
   "execution_count": 22,
   "metadata": {},
   "outputs": [
    {
     "data": {
      "text/plain": [
       "<AxesSubplot:xlabel='income', ylabel='Density'>"
      ]
     },
     "execution_count": 22,
     "metadata": {},
     "output_type": "execute_result"
    },
    {
     "data": {
      "image/png": "[encoded data removed]",
      "text/plain": [
       "<Figure size 432x288 with 1 Axes>"
      ]
     },
     "metadata": {
      "needs_background": "light"
     },
     "output_type": "display_data"
    }
   ],
   "source": [
    "sns.kdeplot(data=df,x=\"income\", hue=\"default\", clip=(min(df.income),max(df.income)))\n",
    "# Generally, for non-defaulters, the distribution is fairly even with no peak that really stands out\n",
    "# For defaulters, there are 3 distinct peaks at around >30k, <50k and 65k"
   ]
  },
  {
   "cell_type": "code",
   "execution_count": 23,
   "metadata": {},
   "outputs": [
    {
     "data": {
      "text/plain": [
       "<AxesSubplot:xlabel='loan', ylabel='Density'>"
      ]
     },
     "execution_count": 23,
     "metadata": {},
     "output_type": "execute_result"
    },
    {
     "data": {
      "image/png": "[encoded data removed]",
      "text/plain": [
       "<Figure size 432x288 with 1 Axes>"
      ]
     },
     "metadata": {
      "needs_background": "light"
     },
     "output_type": "display_data"
    }
   ],
   "source": [
    "sns.kdeplot(data=df,x=\"loan\", hue=\"default\", clip=(min(df.loan),max(df.loan)))\n",
    "# Defaulters generally have a higher loan amount"
   ]
  },
  {
   "cell_type": "code",
   "execution_count": 24,
   "metadata": {},
   "outputs": [
    {
     "data": {
      "text/plain": [
       "<AxesSubplot:>"
      ]
     },
     "execution_count": 24,
     "metadata": {},
     "output_type": "execute_result"
    },
    {
     "data": {
      "image/png": "[encoded data removed]",
      "text/plain": [
       "<Figure size 432x288 with 2 Axes>"
      ]
     },
     "metadata": {
      "needs_background": "light"
     },
     "output_type": "display_data"
    }
   ],
   "source": [
    "sns.heatmap(df.corr())\n",
    "# Loan and income are moderately positively correlated"
   ]
  },
  {
   "cell_type": "markdown",
   "metadata": {},
   "source": [
    "# Modelling: Preprocessing"
   ]
  },
  {
   "cell_type": "markdown",
   "metadata": {},
   "source": [
    "Due to the large differences in the order of magnitude e.g. for age vs income, should perform scaling of X variables so that the model will not be biased towards X variables with larger magnitudes.\n",
    "\n",
    "There are only 3 features, hence feature selection will not be performed"
   ]
  },
  {
   "cell_type": "code",
   "execution_count": 25,
   "metadata": {},
   "outputs": [],
   "source": [
    "X = df.drop(\"default\", axis=1)\n",
    "Y = df.default"
   ]
  },
  {
   "cell_type": "code",
   "execution_count": 26,
   "metadata": {},
   "outputs": [
    {
     "name": "stdout",
     "output_type": "stream",
     "text": [
      "  feature        VIF\n",
      "0  income  12.181603\n",
      "1     age   5.139917\n",
      "2    loan   6.209883\n"
     ]
    }
   ],
   "source": [
    "# Check collinearity\n",
    "vif_data = pd.DataFrame()\n",
    "vif_data[\"feature\"] = X.columns\n",
    "vif_data[\"VIF\"] = [variance_inflation_factor(X.values, i) for i in range(len(X.columns))]\n",
    "print(vif_data)\n",
    "# Very high VIF for all, there is a potential issue of multicollinearity"
   ]
  },
  {
   "cell_type": "code",
   "execution_count": 27,
   "metadata": {},
   "outputs": [],
   "source": [
    "# Scaling\n",
    "# scaler = StandardScaler()\n",
    "# X_scaled = scaler.fit_transform(X)"
   ]
  },
  {
   "cell_type": "code",
   "execution_count": 28,
   "metadata": {},
   "outputs": [],
   "source": [
    "# Normalisation\n",
    "X_scaled = X.copy()\n",
    "\n",
    "for i in X.columns:\n",
    "    X_scaled[i]=stats.zscore(X[i].astype(float))"
   ]
  },
  {
   "cell_type": "code",
   "execution_count": 29,
   "metadata": {},
   "outputs": [
    {
     "name": "stdout",
     "output_type": "stream",
     "text": [
      "  feature       VIF\n",
      "0  income  1.475983\n",
      "1     age  1.088217\n",
      "2    loan  1.573994\n"
     ]
    }
   ],
   "source": [
    "vif_data = pd.DataFrame()\n",
    "vif_data[\"feature\"] = X.columns\n",
    "vif_data[\"VIF\"] = [variance_inflation_factor(X_scaled.values, i) for i in range(len(X.columns))]\n",
    "print(vif_data)\n",
    "# values are all around 1-1.5, no more issue of multicollinearity"
   ]
  },
  {
   "cell_type": "code",
   "execution_count": 30,
   "metadata": {},
   "outputs": [],
   "source": [
    "# Set seed for reproducibility\n",
    "seed=100"
   ]
  },
  {
   "cell_type": "code",
   "execution_count": 31,
   "metadata": {},
   "outputs": [],
   "source": [
    "# Train-test split\n",
    "X_train, X_test, Y_train, Y_test  = train_test_split(X_scaled,Y,test_size=0.3,stratify=Y,random_state=seed)"
   ]
  },
  {
   "cell_type": "code",
   "execution_count": 32,
   "metadata": {},
   "outputs": [],
   "source": [
    "# Define a function for evaluating model for reusability\n",
    "def evaluate(X, Y, model, data=\"Testset\"):\n",
    "    pred = model.predict(X)\n",
    "    cm=confusion_matrix(Y, pred)\n",
    "    ConfusionMatrixDisplay(confusion_matrix=cm,display_labels=model.classes_).plot()\n",
    "    print(f\"{data.capitalize()} Accuracy: \",accuracy_score(Y, pred))"
   ]
  },
  {
   "cell_type": "markdown",
   "metadata": {},
   "source": [
    "# Logistic Regression"
   ]
  },
  {
   "cell_type": "markdown",
   "metadata": {},
   "source": [
    "Assumptions:\n",
    "1. There is a linear relationship between the independent variables and the log odds of the dependent variable\n",
    "2. There is minimal or no mulitcollinearity among the independent variables\n",
    "3. Each observation or row is independent\n",
    "4. Binary logistic regression requires the dependent variable to be binary\n",
    "5. The dataset is sufficiently large so that valid conclusions can be drawn from the model\n",
    "6. There are no strongly influential outliers\n",
    "7. For binary classifications, the probability threshold is 0.5"
   ]
  },
  {
   "cell_type": "code",
   "execution_count": 33,
   "metadata": {},
   "outputs": [
    {
     "data": {
      "text/plain": [
       "LogisticRegression(random_state=100)"
      ]
     },
     "execution_count": 33,
     "metadata": {},
     "output_type": "execute_result"
    }
   ],
   "source": [
    "logreg = LogisticRegression(random_state=seed)\n",
    "logreg.fit(X_train, Y_train)"
   ]
  },
  {
   "cell_type": "code",
   "execution_count": 34,
   "metadata": {},
   "outputs": [
    {
     "name": "stdout",
     "output_type": "stream",
     "text": [
      "Trainset Accuracy:  0.9486858573216521\n"
     ]
    },
    {
     "data": {
      "image/png": "[encoded data removed]",
      "text/plain": [
       "<Figure size 432x288 with 2 Axes>"
      ]
     },
     "metadata": {
      "needs_background": "light"
     },
     "output_type": "display_data"
    }
   ],
   "source": [
    "# Trainset accuracy and confusion matrix\n",
    "evaluate(X_train, Y_train, logreg, \"Trainset\")"
   ]
  },
  {
   "cell_type": "code",
   "execution_count": 35,
   "metadata": {},
   "outputs": [
    {
     "name": "stdout",
     "output_type": "stream",
     "text": [
      "Testset Accuracy:  0.9552529182879378\n"
     ]
    },
    {
     "data": {
      "image/png": "[encoded data removed]",
      "text/plain": [
       "<Figure size 432x288 with 2 Axes>"
      ]
     },
     "metadata": {
      "needs_background": "light"
     },
     "output_type": "display_data"
    }
   ],
   "source": [
    "# Testset accuracy and confusion matrix\n",
    "evaluate(X_test, Y_test, logreg, \"Testset\")"
   ]
  },
  {
   "cell_type": "code",
   "execution_count": 36,
   "metadata": {},
   "outputs": [
    {
     "name": "stdout",
     "output_type": "stream",
     "text": [
      "Optimization terminated successfully.\n",
      "         Current function value: 0.318884\n",
      "         Iterations 7\n",
      "                         Results: Logit\n",
      "================================================================\n",
      "Model:              Logit            Pseudo R-squared: 0.540    \n",
      "Dependent Variable: default          AIC:              2190.3562\n",
      "Date:               2022-02-24 11:04 BIC:              2208.7727\n",
      "No. Observations:   3425             Log-Likelihood:   -1092.2  \n",
      "Df Model:           2                LL-Null:          -2374.0  \n",
      "Df Residuals:       3422             LLR p-value:      0.0000   \n",
      "Converged:          1.0000           Scale:            1.0000   \n",
      "No. Iterations:     7.0000                                      \n",
      "-----------------------------------------------------------------\n",
      "             Coef.   Std.Err.     z      P>|z|    [0.025   0.975]\n",
      "-----------------------------------------------------------------\n",
      "income      -0.0001    0.0000  -11.2496  0.0000  -0.0001  -0.0001\n",
      "age         -0.1018    0.0046  -22.1794  0.0000  -0.1108  -0.0928\n",
      "loan         0.0010    0.0000   24.3498  0.0000   0.0009   0.0011\n",
      "================================================================\n",
      "\n"
     ]
    }
   ],
   "source": [
    "model=sm.Logit(Y,X)\n",
    "result=model.fit()\n",
    "print(result.summary2())\n",
    "# Odds ratio confidence interval excludes 1 for all variables, so they are significant"
   ]
  },
  {
   "cell_type": "code",
   "execution_count": 37,
   "metadata": {},
   "outputs": [
    {
     "data": {
      "text/html": [
       "<div>\n",
       "<style scoped>\n",
       "    .dataframe tbody tr th:only-of-type {\n",
       "        vertical-align: middle;\n",
       "    }\n",
       "\n",
       "    .dataframe tbody tr th {\n",
       "        vertical-align: top;\n",
       "    }\n",
       "\n",
       "    .dataframe thead th {\n",
       "        text-align: right;\n",
       "    }\n",
       "</style>\n",
       "<table border=\"1\" class=\"dataframe\">\n",
       "  <thead>\n",
       "    <tr style=\"text-align: right;\">\n",
       "      <th></th>\n",
       "      <th>Variable</th>\n",
       "      <th>Importance</th>\n",
       "    </tr>\n",
       "  </thead>\n",
       "  <tbody>\n",
       "    <tr>\n",
       "      <th>2</th>\n",
       "      <td>loan</td>\n",
       "      <td>5.198175</td>\n",
       "    </tr>\n",
       "    <tr>\n",
       "      <th>0</th>\n",
       "      <td>income</td>\n",
       "      <td>-3.291583</td>\n",
       "    </tr>\n",
       "    <tr>\n",
       "      <th>1</th>\n",
       "      <td>age</td>\n",
       "      <td>-4.432662</td>\n",
       "    </tr>\n",
       "  </tbody>\n",
       "</table>\n",
       "</div>"
      ],
      "text/plain": [
       "  Variable  Importance\n",
       "2     loan    5.198175\n",
       "0   income   -3.291583\n",
       "1      age   -4.432662"
      ]
     },
     "execution_count": 37,
     "metadata": {},
     "output_type": "execute_result"
    }
   ],
   "source": [
    "importances = pd.DataFrame(data={\n",
    "    'Variable': X_train.columns,\n",
    "    'Importance': logreg.coef_[0]\n",
    "})\n",
    "importances = importances.sort_values(by='Importance', ascending=False)\n",
    "importances\n",
    "# Variable importance according to logistic regression - according to this model, loan is the most important"
   ]
  },
  {
   "cell_type": "markdown",
   "metadata": {},
   "source": [
    "https://machinelearningmastery.com/hyperparameters-for-classification-machine-learning-algorithms/#:~:text=Logistic%20regression%20does%20not%20really,with%20different%20solvers%20(solver).&text=Regularization%20(penalty)%20can%20sometimes%20be%20helpful\n",
    "\n",
    "Logistic regression does not have any critical hyperparameters to tune. Logistic regression is also unlikely to overfit"
   ]
  },
  {
   "cell_type": "markdown",
   "metadata": {},
   "source": [
    "# Decision Tree"
   ]
  },
  {
   "cell_type": "markdown",
   "metadata": {},
   "source": [
    "Decision Trees do not need scaling or normalisation of independent variables. However, each row is assumed to be independent of one another\n",
    "\n",
    "Independent variables that appear at higher nodes are generally more important than those on lower nodes. This depends on the node impurity which can be measured using Gini or entropy etc."
   ]
  },
  {
   "cell_type": "code",
   "execution_count": 38,
   "metadata": {},
   "outputs": [],
   "source": [
    "# Since scaling is not needed, do a train-test split on the non-scaled values\n",
    "X_train, X_test, Y_train, Y_test = train_test_split(X,Y,test_size=0.3,stratify=Y,random_state=seed)"
   ]
  },
  {
   "cell_type": "markdown",
   "metadata": {},
   "source": [
    "### Base model "
   ]
  },
  {
   "cell_type": "code",
   "execution_count": 39,
   "metadata": {},
   "outputs": [
    {
     "data": {
      "text/plain": [
       "DecisionTreeClassifier(random_state=100)"
      ]
     },
     "execution_count": 39,
     "metadata": {},
     "output_type": "execute_result"
    }
   ],
   "source": [
    "cart = tree.DecisionTreeClassifier(random_state=seed)\n",
    "cart.fit(X_train,Y_train)"
   ]
  },
  {
   "cell_type": "code",
   "execution_count": 40,
   "metadata": {},
   "outputs": [
    {
     "name": "stdout",
     "output_type": "stream",
     "text": [
      "Trainset Accuracy:  1.0\n"
     ]
    },
    {
     "data": {
      "image/png": "[encoded data removed]",
      "text/plain": [
       "<Figure size 432x288 with 2 Axes>"
      ]
     },
     "metadata": {
      "needs_background": "light"
     },
     "output_type": "display_data"
    }
   ],
   "source": [
    "# Trainset\n",
    "evaluate(X_train, Y_train, cart, \"Trainset\")"
   ]
  },
  {
   "cell_type": "code",
   "execution_count": 41,
   "metadata": {},
   "outputs": [
    {
     "name": "stdout",
     "output_type": "stream",
     "text": [
      "Testset Accuracy:  0.9883268482490273\n"
     ]
    },
    {
     "data": {
      "image/png": "[encoded data removed]",
      "text/plain": [
       "<Figure size 432x288 with 2 Axes>"
      ]
     },
     "metadata": {
      "needs_background": "light"
     },
     "output_type": "display_data"
    }
   ],
   "source": [
    "# Testset\n",
    "evaluate(X_test, Y_test, cart, \"Testset\")\n",
    "# Extremely high accuracy, even without any hyperparameter tuning."
   ]
  },
  {
   "cell_type": "code",
   "execution_count": 42,
   "metadata": {},
   "outputs": [],
   "source": [
    "# plt.figure(figsize=(25,20))\n",
    "# _ = tree.plot_tree(cart, \n",
    "#                    feature_names=[\"income\",\"age\",\"loan\"],\n",
    "#                    class_names=\"default\",\n",
    "#                    filled=True)"
   ]
  },
  {
   "cell_type": "markdown",
   "metadata": {},
   "source": [
    "### Hyperparameter tuning "
   ]
  },
  {
   "cell_type": "code",
   "execution_count": 43,
   "metadata": {},
   "outputs": [],
   "source": [
    "cart = tree.DecisionTreeClassifier(random_state=seed)"
   ]
  },
  {
   "cell_type": "code",
   "execution_count": 44,
   "metadata": {},
   "outputs": [],
   "source": [
    "grid_params = [{\"min_samples_split\": [i for i in range(1,300)],\n",
    "              \"max_depth\": [i for i in range(1,20)]}]"
   ]
  },
  {
   "cell_type": "code",
   "execution_count": 45,
   "metadata": {},
   "outputs": [
    {
     "name": "stdout",
     "output_type": "stream",
     "text": [
      "{'max_depth': 8, 'min_samples_split': 4}\n"
     ]
    },
    {
     "name": "stderr",
     "output_type": "stream",
     "text": [
      "C:\\Users\\jacks\\anaconda3\\lib\\site-packages\\sklearn\\model_selection\\_validation.py:372: FitFailedWarning: \n",
      "95 fits failed out of a total of 28405.\n",
      "The score on these train-test partitions for these parameters will be set to nan.\n",
      "If these failures are not expected, you can try to debug them by setting error_score='raise'.\n",
      "\n",
      "Below are more details about the failures:\n",
      "--------------------------------------------------------------------------------\n",
      "95 fits failed with the following error:\n",
      "Traceback (most recent call last):\n",
      "  File \"C:\\Users\\jacks\\anaconda3\\lib\\site-packages\\sklearn\\model_selection\\_validation.py\", line 680, in _fit_and_score\n",
      "    estimator.fit(X_train, y_train, **fit_params)\n",
      "  File \"C:\\Users\\jacks\\anaconda3\\lib\\site-packages\\sklearn\\tree\\_classes.py\", line 937, in fit\n",
      "    super().fit(\n",
      "  File \"C:\\Users\\jacks\\anaconda3\\lib\\site-packages\\sklearn\\tree\\_classes.py\", line 250, in fit\n",
      "    raise ValueError(\n",
      "ValueError: min_samples_split must be an integer greater than 1 or a float in (0.0, 1.0]; got the integer 1\n",
      "\n",
      "  warnings.warn(some_fits_failed_message, FitFailedWarning)\n",
      "C:\\Users\\jacks\\anaconda3\\lib\\site-packages\\sklearn\\model_selection\\_search.py:969: UserWarning: One or more of the test scores are non-finite: [       nan 0.86190066 0.86190066 ... 0.96829419 0.96829419 0.96829419]\n",
      "  warnings.warn(\n"
     ]
    }
   ],
   "source": [
    "grid = GridSearchCV(cart, grid_params)\n",
    "grid.fit(X_train, Y_train)\n",
    "print(grid.best_params_)"
   ]
  },
  {
   "cell_type": "markdown",
   "metadata": {},
   "source": [
    "### Tuned Model "
   ]
  },
  {
   "cell_type": "code",
   "execution_count": 46,
   "metadata": {},
   "outputs": [
    {
     "data": {
      "text/plain": [
       "DecisionTreeClassifier(max_depth=8, min_samples_split=4, random_state=100)"
      ]
     },
     "execution_count": 46,
     "metadata": {},
     "output_type": "execute_result"
    }
   ],
   "source": [
    "cart = tree.DecisionTreeClassifier(min_samples_split = grid.best_params_[\"min_samples_split\"],\n",
    "                                  max_depth = grid.best_params_[\"max_depth\"],\n",
    "                                  random_state = seed)\n",
    "cart.fit(X_train, Y_train)"
   ]
  },
  {
   "cell_type": "code",
   "execution_count": 47,
   "metadata": {},
   "outputs": [
    {
     "name": "stdout",
     "output_type": "stream",
     "text": [
      "Testset Accuracy:  0.9863813229571985\n"
     ]
    },
    {
     "data": {
      "image/png": "[encoded data removed]",
      "text/plain": [
       "<Figure size 432x288 with 2 Axes>"
      ]
     },
     "metadata": {
      "needs_background": "light"
     },
     "output_type": "display_data"
    }
   ],
   "source": [
    "evaluate(X_test, Y_test, cart, \"Testset\")\n",
    "# Accuracy drops very slightly after tuning, but are still very close"
   ]
  },
  {
   "cell_type": "code",
   "execution_count": 48,
   "metadata": {},
   "outputs": [
    {
     "data": {
      "text/html": [
       "<div>\n",
       "<style scoped>\n",
       "    .dataframe tbody tr th:only-of-type {\n",
       "        vertical-align: middle;\n",
       "    }\n",
       "\n",
       "    .dataframe tbody tr th {\n",
       "        vertical-align: top;\n",
       "    }\n",
       "\n",
       "    .dataframe thead th {\n",
       "        text-align: right;\n",
       "    }\n",
       "</style>\n",
       "<table border=\"1\" class=\"dataframe\">\n",
       "  <thead>\n",
       "    <tr style=\"text-align: right;\">\n",
       "      <th></th>\n",
       "      <th>Variable</th>\n",
       "      <th>Importance</th>\n",
       "    </tr>\n",
       "  </thead>\n",
       "  <tbody>\n",
       "    <tr>\n",
       "      <th>1</th>\n",
       "      <td>age</td>\n",
       "      <td>0.579113</td>\n",
       "    </tr>\n",
       "    <tr>\n",
       "      <th>2</th>\n",
       "      <td>loan</td>\n",
       "      <td>0.292170</td>\n",
       "    </tr>\n",
       "    <tr>\n",
       "      <th>0</th>\n",
       "      <td>income</td>\n",
       "      <td>0.128717</td>\n",
       "    </tr>\n",
       "  </tbody>\n",
       "</table>\n",
       "</div>"
      ],
      "text/plain": [
       "  Variable  Importance\n",
       "1      age    0.579113\n",
       "2     loan    0.292170\n",
       "0   income    0.128717"
      ]
     },
     "execution_count": 48,
     "metadata": {},
     "output_type": "execute_result"
    }
   ],
   "source": [
    "importances = pd.DataFrame(data={\n",
    "    'Variable': X_train.columns,\n",
    "    'Importance': cart.feature_importances_\n",
    "})\n",
    "importances = importances.sort_values(by='Importance', ascending=False)\n",
    "importances\n",
    "# According to CART, age is the most important variable, then loan, then income"
   ]
  },
  {
   "cell_type": "markdown",
   "metadata": {},
   "source": [
    "Single decision trees tend to be unstable, so a small change in the data can lead to a large change in the optimal tree. Decision trees also tend to overfit, making it less generalisable"
   ]
  },
  {
   "cell_type": "markdown",
   "metadata": {},
   "source": [
    "# Random Forest"
   ]
  },
  {
   "cell_type": "markdown",
   "metadata": {},
   "source": [
    "Random forest addresses some of CART's issues through bagging to add randomness and stability. Like CART, it does not make assumptions about the underlying distribution (e.g. does not need to be normally distributed) and the only assumption it may make is that the sampling is representative.\n",
    "\n",
    "Feature selection is generally not important for ensembles of decision trees: https://datascience.stackexchange.com/questions/51615/does-feature-selections-matter-to-decision-tree-algorithms"
   ]
  },
  {
   "cell_type": "markdown",
   "metadata": {},
   "source": [
    "### Base model "
   ]
  },
  {
   "cell_type": "code",
   "execution_count": 49,
   "metadata": {},
   "outputs": [
    {
     "data": {
      "text/plain": [
       "RandomForestClassifier(random_state=100)"
      ]
     },
     "execution_count": 49,
     "metadata": {},
     "output_type": "execute_result"
    }
   ],
   "source": [
    "rf = RandomForestClassifier(random_state=seed)\n",
    "rf.fit(X_train, Y_train)"
   ]
  },
  {
   "cell_type": "code",
   "execution_count": 50,
   "metadata": {},
   "outputs": [
    {
     "name": "stdout",
     "output_type": "stream",
     "text": [
      "Trainset Accuracy:  1.0\n"
     ]
    },
    {
     "data": {
      "image/png": "[encoded data removed]",
      "text/plain": [
       "<Figure size 432x288 with 2 Axes>"
      ]
     },
     "metadata": {
      "needs_background": "light"
     },
     "output_type": "display_data"
    }
   ],
   "source": [
    "# Trainset\n",
    "evaluate(X_train, Y_train, rf, \"Trainset\")"
   ]
  },
  {
   "cell_type": "code",
   "execution_count": 51,
   "metadata": {},
   "outputs": [
    {
     "name": "stdout",
     "output_type": "stream",
     "text": [
      "Testset Accuracy:  0.9922178988326849\n"
     ]
    },
    {
     "data": {
      "image/png": "[encoded data removed]",
      "text/plain": [
       "<Figure size 432x288 with 2 Axes>"
      ]
     },
     "metadata": {
      "needs_background": "light"
     },
     "output_type": "display_data"
    }
   ],
   "source": [
    "# Testset\n",
    "evaluate(X_test, Y_test, rf, \"Testset\")"
   ]
  },
  {
   "cell_type": "markdown",
   "metadata": {},
   "source": [
    "### Hyperparameter Tuning"
   ]
  },
  {
   "cell_type": "code",
   "execution_count": 52,
   "metadata": {},
   "outputs": [],
   "source": [
    "rf = RandomForestClassifier(random_state=seed)"
   ]
  },
  {
   "cell_type": "code",
   "execution_count": 53,
   "metadata": {},
   "outputs": [],
   "source": [
    "grid_params ={\n",
    "            'max_depth':[5,10,20,30,40,50,60,70],\n",
    "            'min_samples_split':[5,10,20,25,30,40,50]\n",
    "            }"
   ]
  },
  {
   "cell_type": "code",
   "execution_count": 54,
   "metadata": {},
   "outputs": [
    {
     "name": "stdout",
     "output_type": "stream",
     "text": [
      "{'max_depth': 20, 'min_samples_split': 5}\n"
     ]
    }
   ],
   "source": [
    "grid = GridSearchCV(rf, grid_params)\n",
    "grid.fit(X_train, Y_train)\n",
    "print(grid.best_params_)"
   ]
  },
  {
   "cell_type": "markdown",
   "metadata": {},
   "source": [
    "### Tuned Model "
   ]
  },
  {
   "cell_type": "code",
   "execution_count": 55,
   "metadata": {},
   "outputs": [
    {
     "data": {
      "text/plain": [
       "RandomForestClassifier(max_depth=20, min_samples_split=5, random_state=100)"
      ]
     },
     "execution_count": 55,
     "metadata": {},
     "output_type": "execute_result"
    }
   ],
   "source": [
    "rf = RandomForestClassifier(min_samples_split = grid.best_params_[\"min_samples_split\"],\n",
    "                                  max_depth = grid.best_params_[\"max_depth\"],\n",
    "                                  random_state = seed)\n",
    "rf.fit(X_train, Y_train)"
   ]
  },
  {
   "cell_type": "code",
   "execution_count": 56,
   "metadata": {},
   "outputs": [
    {
     "name": "stdout",
     "output_type": "stream",
     "text": [
      "Testset Accuracy:  0.9922178988326849\n"
     ]
    },
    {
     "data": {
      "image/png": "[encoded data removed]",
      "text/plain": [
       "<Figure size 432x288 with 2 Axes>"
      ]
     },
     "metadata": {
      "needs_background": "light"
     },
     "output_type": "display_data"
    }
   ],
   "source": [
    "evaluate(X_test, Y_test, rf, \"Testset\")\n",
    "# No change after tuning"
   ]
  },
  {
   "cell_type": "code",
   "execution_count": 57,
   "metadata": {},
   "outputs": [
    {
     "data": {
      "text/html": [
       "<div>\n",
       "<style scoped>\n",
       "    .dataframe tbody tr th:only-of-type {\n",
       "        vertical-align: middle;\n",
       "    }\n",
       "\n",
       "    .dataframe tbody tr th {\n",
       "        vertical-align: top;\n",
       "    }\n",
       "\n",
       "    .dataframe thead th {\n",
       "        text-align: right;\n",
       "    }\n",
       "</style>\n",
       "<table border=\"1\" class=\"dataframe\">\n",
       "  <thead>\n",
       "    <tr style=\"text-align: right;\">\n",
       "      <th></th>\n",
       "      <th>Variable</th>\n",
       "      <th>Importance</th>\n",
       "    </tr>\n",
       "  </thead>\n",
       "  <tbody>\n",
       "    <tr>\n",
       "      <th>1</th>\n",
       "      <td>age</td>\n",
       "      <td>0.537146</td>\n",
       "    </tr>\n",
       "    <tr>\n",
       "      <th>2</th>\n",
       "      <td>loan</td>\n",
       "      <td>0.353572</td>\n",
       "    </tr>\n",
       "    <tr>\n",
       "      <th>0</th>\n",
       "      <td>income</td>\n",
       "      <td>0.109282</td>\n",
       "    </tr>\n",
       "  </tbody>\n",
       "</table>\n",
       "</div>"
      ],
      "text/plain": [
       "  Variable  Importance\n",
       "1      age    0.537146\n",
       "2     loan    0.353572\n",
       "0   income    0.109282"
      ]
     },
     "execution_count": 57,
     "metadata": {},
     "output_type": "execute_result"
    }
   ],
   "source": [
    "importances = pd.DataFrame(data={\n",
    "    'Variable': X_train.columns,\n",
    "    'Importance': rf.feature_importances_\n",
    "})\n",
    "importances = importances.sort_values(by='Importance', ascending=False)\n",
    "importances\n",
    "# According to Random Forest, age is the most important variable, then loan, then income"
   ]
  },
  {
   "cell_type": "markdown",
   "metadata": {},
   "source": [
    "# XGBoost"
   ]
  },
  {
   "cell_type": "markdown",
   "metadata": {},
   "source": [
    "XGBoost may assume that encoded integer values for each input variable have an ordinal relationship. Since this is also a decision tree model, each row is also treated as independent of one another."
   ]
  },
  {
   "cell_type": "markdown",
   "metadata": {},
   "source": [
    "### Base Model"
   ]
  },
  {
   "cell_type": "code",
   "execution_count": 58,
   "metadata": {},
   "outputs": [
    {
     "data": {
      "text/plain": [
       "GradientBoostingClassifier(random_state=100)"
      ]
     },
     "execution_count": 58,
     "metadata": {},
     "output_type": "execute_result"
    }
   ],
   "source": [
    "xgb = GradientBoostingClassifier(random_state=seed)\n",
    "xgb.fit(X_train, Y_train)"
   ]
  },
  {
   "cell_type": "code",
   "execution_count": 59,
   "metadata": {},
   "outputs": [
    {
     "name": "stdout",
     "output_type": "stream",
     "text": [
      "Trainset Accuracy:  0.9995828118481435\n"
     ]
    },
    {
     "data": {
      "image/png": "[encoded data removed]",
      "text/plain": [
       "<Figure size 432x288 with 2 Axes>"
      ]
     },
     "metadata": {
      "needs_background": "light"
     },
     "output_type": "display_data"
    }
   ],
   "source": [
    "# Trainset\n",
    "evaluate(X_train, Y_train, xgb, \"Trainset\")"
   ]
  },
  {
   "cell_type": "code",
   "execution_count": 60,
   "metadata": {},
   "outputs": [
    {
     "name": "stdout",
     "output_type": "stream",
     "text": [
      "Testset Accuracy:  0.9892996108949417\n"
     ]
    },
    {
     "data": {
      "image/png": "[encoded data removed]",
      "text/plain": [
       "<Figure size 432x288 with 2 Axes>"
      ]
     },
     "metadata": {
      "needs_background": "light"
     },
     "output_type": "display_data"
    }
   ],
   "source": [
    "# Testset\n",
    "evaluate(X_test, Y_test, xgb, \"Testset\")"
   ]
  },
  {
   "cell_type": "markdown",
   "metadata": {},
   "source": [
    "### Hyperparameter Tuning "
   ]
  },
  {
   "cell_type": "code",
   "execution_count": 61,
   "metadata": {},
   "outputs": [],
   "source": [
    "xgb = GradientBoostingClassifier(random_state=seed)"
   ]
  },
  {
   "cell_type": "code",
   "execution_count": 62,
   "metadata": {},
   "outputs": [],
   "source": [
    "grid_params ={\n",
    "            'max_depth':[5,10,20,30,40,50,60,70],\n",
    "            'min_samples_split':[5,10,20,25,30,40,50]\n",
    "            }"
   ]
  },
  {
   "cell_type": "code",
   "execution_count": 64,
   "metadata": {},
   "outputs": [
    {
     "name": "stdout",
     "output_type": "stream",
     "text": [
      "{'max_depth': 5, 'min_samples_split': 50}\n"
     ]
    }
   ],
   "source": [
    "grid = GridSearchCV(xgb, grid_params)\n",
    "grid.fit(X_train, Y_train)\n",
    "print(grid.best_params_)"
   ]
  },
  {
   "cell_type": "markdown",
   "metadata": {},
   "source": [
    "### Tuned Model"
   ]
  },
  {
   "cell_type": "code",
   "execution_count": 65,
   "metadata": {},
   "outputs": [
    {
     "data": {
      "text/plain": [
       "GradientBoostingClassifier(max_depth=5, min_samples_split=50, random_state=100)"
      ]
     },
     "execution_count": 65,
     "metadata": {},
     "output_type": "execute_result"
    }
   ],
   "source": [
    "xgb = GradientBoostingClassifier(min_samples_split = grid.best_params_[\"min_samples_split\"],\n",
    "                                  max_depth = grid.best_params_[\"max_depth\"],\n",
    "                                  random_state = seed)\n",
    "xgb.fit(X_train, Y_train)"
   ]
  },
  {
   "cell_type": "code",
   "execution_count": 66,
   "metadata": {},
   "outputs": [
    {
     "name": "stdout",
     "output_type": "stream",
     "text": [
      "Testset Accuracy:  0.9922178988326849\n"
     ]
    },
    {
     "data": {
      "image/png": "[encoded data removed]",
      "text/plain": [
       "<Figure size 432x288 with 2 Axes>"
      ]
     },
     "metadata": {
      "needs_background": "light"
     },
     "output_type": "display_data"
    }
   ],
   "source": [
    "# Testset\n",
    "evaluate(X_test, Y_test, xgb, \"Testset\")\n",
    "# Accuracy improves slightly"
   ]
  },
  {
   "cell_type": "code",
   "execution_count": 67,
   "metadata": {},
   "outputs": [
    {
     "data": {
      "text/html": [
       "<div>\n",
       "<style scoped>\n",
       "    .dataframe tbody tr th:only-of-type {\n",
       "        vertical-align: middle;\n",
       "    }\n",
       "\n",
       "    .dataframe tbody tr th {\n",
       "        vertical-align: top;\n",
       "    }\n",
       "\n",
       "    .dataframe thead th {\n",
       "        text-align: right;\n",
       "    }\n",
       "</style>\n",
       "<table border=\"1\" class=\"dataframe\">\n",
       "  <thead>\n",
       "    <tr style=\"text-align: right;\">\n",
       "      <th></th>\n",
       "      <th>Variable</th>\n",
       "      <th>Importance</th>\n",
       "    </tr>\n",
       "  </thead>\n",
       "  <tbody>\n",
       "    <tr>\n",
       "      <th>1</th>\n",
       "      <td>age</td>\n",
       "      <td>0.586852</td>\n",
       "    </tr>\n",
       "    <tr>\n",
       "      <th>2</th>\n",
       "      <td>loan</td>\n",
       "      <td>0.288258</td>\n",
       "    </tr>\n",
       "    <tr>\n",
       "      <th>0</th>\n",
       "      <td>income</td>\n",
       "      <td>0.124890</td>\n",
       "    </tr>\n",
       "  </tbody>\n",
       "</table>\n",
       "</div>"
      ],
      "text/plain": [
       "  Variable  Importance\n",
       "1      age    0.586852\n",
       "2     loan    0.288258\n",
       "0   income    0.124890"
      ]
     },
     "execution_count": 67,
     "metadata": {},
     "output_type": "execute_result"
    }
   ],
   "source": [
    "importances = pd.DataFrame(data={\n",
    "    'Variable': X_train.columns,\n",
    "    'Importance': xgb.feature_importances_\n",
    "})\n",
    "importances = importances.sort_values(by='Importance', ascending=False)\n",
    "importances\n",
    "# According to XGBoost, age is the most important variable, then loan, then income"
   ]
  },
  {
   "cell_type": "markdown",
   "metadata": {},
   "source": [
    "# Neural Network (Keras)"
   ]
  },
  {
   "cell_type": "markdown",
   "metadata": {},
   "source": [
    "Assumptions:\n",
    "1. Independent variables are scaled and have the same order of magnitude\n",
    "2. For logistic activation functions, the threshold for P(Y=1) is 0.5\n",
    "3. Batching in neural network assumes homogenous data"
   ]
  },
  {
   "cell_type": "markdown",
   "metadata": {},
   "source": [
    "### Base model "
   ]
  },
  {
   "cell_type": "code",
   "execution_count": 68,
   "metadata": {},
   "outputs": [],
   "source": [
    "# Train-test split, using the scaled values\n",
    "X_train, X_test, Y_train, Y_test  = train_test_split(X_scaled,Y,test_size=0.3,stratify=Y,random_state=seed)"
   ]
  },
  {
   "cell_type": "code",
   "execution_count": 69,
   "metadata": {},
   "outputs": [],
   "source": [
    "nn = Sequential()"
   ]
  },
  {
   "cell_type": "code",
   "execution_count": 70,
   "metadata": {},
   "outputs": [],
   "source": [
    "# Define neural network layers\n",
    "nn.add(Dense(10, input_dim=3, activation='relu')) \n",
    "# relu is faster than sigmoid/logistic activation function (linear vs. exponential), \n",
    "# also avoids vanishing gradient situation where the bigger the input (in absolute value) the smaller the gradient of the sigmoid function.\n",
    "nn.add(Dropout(0.2)) # To prevent overfitting"
   ]
  },
  {
   "cell_type": "code",
   "execution_count": 71,
   "metadata": {},
   "outputs": [],
   "source": [
    "# Hidden layers\n",
    "nn.add(Dense(4, activation=\"relu\"))\n",
    "nn.add(Dropout(0.3))"
   ]
  },
  {
   "cell_type": "code",
   "execution_count": 72,
   "metadata": {},
   "outputs": [],
   "source": [
    "# Output layer\n",
    "nn.add(Dense(1, activation='sigmoid'))"
   ]
  },
  {
   "cell_type": "code",
   "execution_count": 73,
   "metadata": {},
   "outputs": [],
   "source": [
    "nn.compile(loss = 'binary_crossentropy', optimizer=\"Adamax\", metrics = ['accuracy'])\n",
    "# binary cross entropy since discrete for 2 classes \n",
    "# Optimizer is to specify the manner in which the weights are updated (learning rate)"
   ]
  },
  {
   "cell_type": "code",
   "execution_count": 74,
   "metadata": {},
   "outputs": [
    {
     "name": "stdout",
     "output_type": "stream",
     "text": [
      "Epoch 1/10\n",
      "240/240 [==============================] - 1s 3ms/step - loss: 0.5457 - accuracy: 0.8002\n",
      "Epoch 2/10\n",
      "240/240 [==============================] - 1s 3ms/step - loss: 0.4682 - accuracy: 0.8394\n",
      "Epoch 3/10\n",
      "240/240 [==============================] - 1s 2ms/step - loss: 0.3988 - accuracy: 0.8607\n",
      "Epoch 4/10\n",
      "240/240 [==============================] - 0s 2ms/step - loss: 0.3594 - accuracy: 0.8569\n",
      "Epoch 5/10\n",
      "240/240 [==============================] - 0s 2ms/step - loss: 0.3216 - accuracy: 0.8715\n",
      "Epoch 6/10\n",
      "240/240 [==============================] - 0s 2ms/step - loss: 0.3036 - accuracy: 0.8757\n",
      "Epoch 7/10\n",
      "240/240 [==============================] - 0s 1ms/step - loss: 0.2924 - accuracy: 0.8707\n",
      "Epoch 8/10\n",
      "240/240 [==============================] - 0s 2ms/step - loss: 0.2791 - accuracy: 0.8769\n",
      "Epoch 9/10\n",
      "240/240 [==============================] - 0s 2ms/step - loss: 0.2759 - accuracy: 0.8790\n",
      "Epoch 10/10\n",
      "240/240 [==============================] - 0s 2ms/step - loss: 0.2605 - accuracy: 0.8807\n"
     ]
    },
    {
     "data": {
      "text/plain": [
       "<keras.callbacks.History at 0x2cedb463b50>"
      ]
     },
     "execution_count": 74,
     "metadata": {},
     "output_type": "execute_result"
    }
   ],
   "source": [
    "nn.fit(X_train, Y_train, batch_size=10, epochs=10)"
   ]
  },
  {
   "cell_type": "code",
   "execution_count": 75,
   "metadata": {},
   "outputs": [
    {
     "name": "stdout",
     "output_type": "stream",
     "text": [
      "75/75 [==============================] - 0s 1ms/step - loss: 0.1642 - accuracy: 0.9445\n",
      "33/33 [==============================] - 0s 1ms/step - loss: 0.1488 - accuracy: 0.9562\n"
     ]
    },
    {
     "data": {
      "text/plain": [
       "[0.14881747961044312, 0.9562256932258606]"
      ]
     },
     "execution_count": 75,
     "metadata": {},
     "output_type": "execute_result"
    }
   ],
   "source": [
    "# Trainset\n",
    "nn.evaluate(X_train, Y_train)\n",
    "# Testset\n",
    "nn.evaluate(X_test, Y_test)"
   ]
  },
  {
   "cell_type": "code",
   "execution_count": 76,
   "metadata": {},
   "outputs": [
    {
     "name": "stdout",
     "output_type": "stream",
     "text": [
      "[[1084  113]\n",
      " [  20 1180]]\n",
      "Trainset Accuracy: 0.9445139758030872\n"
     ]
    }
   ],
   "source": [
    "prednn=nn.predict(X_train)\n",
    "prednn=np.where(prednn>0.5,1,0)\n",
    "cm=confusion_matrix(Y_train, prednn)\n",
    "print(cm)\n",
    "accuracy=(cm[0,0]+cm[1,1])/sum(sum(cm))\n",
    "print(\"Trainset Accuracy:\",accuracy)"
   ]
  },
  {
   "cell_type": "code",
   "execution_count": 77,
   "metadata": {},
   "outputs": [
    {
     "name": "stdout",
     "output_type": "stream",
     "text": [
      "[[472  42]\n",
      " [  3 511]]\n",
      "Testset Accuracy: 0.9562256809338522\n"
     ]
    }
   ],
   "source": [
    "prednn=nn.predict(X_test)\n",
    "prednn=np.where(prednn>0.5,1,0)\n",
    "cm=confusion_matrix(Y_test, prednn)\n",
    "print(cm)\n",
    "accuracy=(cm[0,0]+cm[1,1])/sum(sum(cm))\n",
    "print(\"Testset Accuracy:\",accuracy)"
   ]
  },
  {
   "cell_type": "code",
   "execution_count": 78,
   "metadata": {},
   "outputs": [
    {
     "name": "stdout",
     "output_type": "stream",
     "text": [
      "Model: \"sequential\"\n",
      "_________________________________________________________________\n",
      " Layer (type)                Output Shape              Param #   \n",
      "=================================================================\n",
      " dense (Dense)               (None, 10)                40        \n",
      "                                                                 \n",
      " dropout (Dropout)           (None, 10)                0         \n",
      "                                                                 \n",
      " dense_1 (Dense)             (None, 4)                 44        \n",
      "                                                                 \n",
      " dropout_1 (Dropout)         (None, 4)                 0         \n",
      "                                                                 \n",
      " dense_2 (Dense)             (None, 1)                 5         \n",
      "                                                                 \n",
      "=================================================================\n",
      "Total params: 89\n",
      "Trainable params: 89\n",
      "Non-trainable params: 0\n",
      "_________________________________________________________________\n"
     ]
    }
   ],
   "source": [
    "nn.summary()"
   ]
  },
  {
   "cell_type": "code",
   "execution_count": 79,
   "metadata": {},
   "outputs": [],
   "source": [
    "#nn.weights"
   ]
  },
  {
   "cell_type": "markdown",
   "metadata": {},
   "source": [
    "### Hyperparameter Tuning and Tuned Model"
   ]
  },
  {
   "cell_type": "code",
   "execution_count": 80,
   "metadata": {},
   "outputs": [],
   "source": [
    "grid_params ={\n",
    "            'batch_size': [10, 20, 40, 60, 80, 100],\n",
    "            'epochs': [10, 20, 50, 100]\n",
    "            }"
   ]
  },
  {
   "cell_type": "code",
   "execution_count": 81,
   "metadata": {},
   "outputs": [],
   "source": [
    "def build_nn(): \n",
    "    nn=Sequential()\n",
    "\n",
    "    nn.add(Dense(10, input_dim=3, activation=\"relu\"))\n",
    "    nn.add(Dropout(0.2))\n",
    "    \n",
    "    nn.add(Dense(8, activation=\"relu\"))\n",
    "    nn.add(Dropout(0.3))\n",
    "    \n",
    "    nn.add(Dense(1, activation=\"sigmoid\"))\n",
    " \n",
    "    nn.compile(loss = 'binary_crossentropy', optimizer = 'Adamax', metrics = ['accuracy'])\n",
    "\n",
    "    return nn"
   ]
  },
  {
   "cell_type": "code",
   "execution_count": 82,
   "metadata": {},
   "outputs": [
    {
     "name": "stderr",
     "output_type": "stream",
     "text": [
      "<ipython-input-82-fbf06dd9e082>:1: DeprecationWarning: KerasClassifier is deprecated, use Sci-Keras (https://github.com/adriangb/scikeras) instead. See https://www.adriangb.com/scikeras/stable/migration.html for help migrating.\n",
      "  nn = KerasClassifier(build_fn=build_nn, verbose=2)\n"
     ]
    }
   ],
   "source": [
    "nn = KerasClassifier(build_fn=build_nn, verbose=2)"
   ]
  },
  {
   "cell_type": "code",
   "execution_count": 83,
   "metadata": {},
   "outputs": [
    {
     "name": "stdout",
     "output_type": "stream",
     "text": [
      "Epoch 1/100\n",
      "240/240 - 1s - loss: 0.5950 - accuracy: 0.7076 - 1s/epoch - 4ms/step\n",
      "Epoch 2/100\n",
      "240/240 - 0s - loss: 0.4885 - accuracy: 0.8456 - 278ms/epoch - 1ms/step\n",
      "Epoch 3/100\n",
      "240/240 - 0s - loss: 0.3981 - accuracy: 0.8707 - 343ms/epoch - 1ms/step\n",
      "Epoch 4/100\n",
      "240/240 - 0s - loss: 0.3390 - accuracy: 0.8828 - 470ms/epoch - 2ms/step\n",
      "Epoch 5/100\n",
      "240/240 - 0s - loss: 0.2960 - accuracy: 0.9049 - 317ms/epoch - 1ms/step\n",
      "Epoch 6/100\n",
      "240/240 - 0s - loss: 0.2723 - accuracy: 0.9120 - 308ms/epoch - 1ms/step\n",
      "Epoch 7/100\n",
      "240/240 - 0s - loss: 0.2470 - accuracy: 0.9224 - 366ms/epoch - 2ms/step\n",
      "Epoch 8/100\n",
      "240/240 - 0s - loss: 0.2278 - accuracy: 0.9212 - 356ms/epoch - 1ms/step\n",
      "Epoch 9/100\n",
      "240/240 - 0s - loss: 0.2090 - accuracy: 0.9282 - 280ms/epoch - 1ms/step\n",
      "Epoch 10/100\n",
      "240/240 - 0s - loss: 0.2064 - accuracy: 0.9307 - 265ms/epoch - 1ms/step\n",
      "Epoch 11/100\n",
      "240/240 - 0s - loss: 0.1911 - accuracy: 0.9366 - 285ms/epoch - 1ms/step\n",
      "Epoch 12/100\n",
      "240/240 - 0s - loss: 0.1845 - accuracy: 0.9383 - 396ms/epoch - 2ms/step\n",
      "Epoch 13/100\n",
      "240/240 - 1s - loss: 0.1740 - accuracy: 0.9420 - 506ms/epoch - 2ms/step\n",
      "Epoch 14/100\n",
      "240/240 - 0s - loss: 0.1699 - accuracy: 0.9408 - 287ms/epoch - 1ms/step\n",
      "Epoch 15/100\n",
      "240/240 - 0s - loss: 0.1724 - accuracy: 0.9441 - 354ms/epoch - 1ms/step\n",
      "Epoch 16/100\n",
      "240/240 - 0s - loss: 0.1671 - accuracy: 0.9437 - 286ms/epoch - 1ms/step\n",
      "Epoch 17/100\n",
      "240/240 - 0s - loss: 0.1566 - accuracy: 0.9483 - 277ms/epoch - 1ms/step\n",
      "Epoch 18/100\n",
      "240/240 - 0s - loss: 0.1492 - accuracy: 0.9466 - 302ms/epoch - 1ms/step\n",
      "Epoch 19/100\n",
      "240/240 - 0s - loss: 0.1524 - accuracy: 0.9483 - 435ms/epoch - 2ms/step\n",
      "Epoch 20/100\n",
      "240/240 - 0s - loss: 0.1424 - accuracy: 0.9508 - 297ms/epoch - 1ms/step\n",
      "Epoch 21/100\n",
      "240/240 - 0s - loss: 0.1556 - accuracy: 0.9458 - 303ms/epoch - 1ms/step\n",
      "Epoch 22/100\n",
      "240/240 - 0s - loss: 0.1407 - accuracy: 0.9516 - 293ms/epoch - 1ms/step\n",
      "Epoch 23/100\n",
      "240/240 - 0s - loss: 0.1371 - accuracy: 0.9562 - 287ms/epoch - 1ms/step\n",
      "Epoch 24/100\n",
      "240/240 - 1s - loss: 0.1340 - accuracy: 0.9529 - 645ms/epoch - 3ms/step\n",
      "Epoch 25/100\n",
      "240/240 - 0s - loss: 0.1289 - accuracy: 0.9562 - 488ms/epoch - 2ms/step\n",
      "Epoch 26/100\n",
      "240/240 - 0s - loss: 0.1366 - accuracy: 0.9554 - 419ms/epoch - 2ms/step\n",
      "Epoch 27/100\n",
      "240/240 - 0s - loss: 0.1223 - accuracy: 0.9595 - 297ms/epoch - 1ms/step\n",
      "Epoch 28/100\n",
      "240/240 - 0s - loss: 0.1220 - accuracy: 0.9558 - 402ms/epoch - 2ms/step\n",
      "Epoch 29/100\n",
      "240/240 - 0s - loss: 0.1190 - accuracy: 0.9599 - 280ms/epoch - 1ms/step\n",
      "Epoch 30/100\n",
      "240/240 - 0s - loss: 0.1244 - accuracy: 0.9650 - 457ms/epoch - 2ms/step\n",
      "Epoch 31/100\n",
      "240/240 - 1s - loss: 0.1185 - accuracy: 0.9612 - 558ms/epoch - 2ms/step\n",
      "Epoch 32/100\n",
      "240/240 - 0s - loss: 0.1205 - accuracy: 0.9637 - 385ms/epoch - 2ms/step\n",
      "Epoch 33/100\n",
      "240/240 - 1s - loss: 0.1127 - accuracy: 0.9629 - 550ms/epoch - 2ms/step\n",
      "Epoch 34/100\n",
      "240/240 - 0s - loss: 0.1115 - accuracy: 0.9654 - 428ms/epoch - 2ms/step\n",
      "Epoch 35/100\n",
      "240/240 - 1s - loss: 0.1140 - accuracy: 0.9633 - 759ms/epoch - 3ms/step\n",
      "Epoch 36/100\n",
      "240/240 - 0s - loss: 0.1058 - accuracy: 0.9658 - 355ms/epoch - 1ms/step\n",
      "Epoch 37/100\n",
      "240/240 - 0s - loss: 0.0990 - accuracy: 0.9679 - 311ms/epoch - 1ms/step\n",
      "Epoch 38/100\n",
      "240/240 - 1s - loss: 0.1043 - accuracy: 0.9658 - 525ms/epoch - 2ms/step\n",
      "Epoch 39/100\n",
      "240/240 - 0s - loss: 0.1001 - accuracy: 0.9666 - 293ms/epoch - 1ms/step\n",
      "Epoch 40/100\n",
      "240/240 - 0s - loss: 0.1086 - accuracy: 0.9637 - 279ms/epoch - 1ms/step\n",
      "Epoch 41/100\n",
      "240/240 - 0s - loss: 0.0956 - accuracy: 0.9679 - 437ms/epoch - 2ms/step\n",
      "Epoch 42/100\n",
      "240/240 - 1s - loss: 0.0929 - accuracy: 0.9716 - 791ms/epoch - 3ms/step\n",
      "Epoch 43/100\n",
      "240/240 - 1s - loss: 0.0914 - accuracy: 0.9700 - 789ms/epoch - 3ms/step\n",
      "Epoch 44/100\n",
      "240/240 - 1s - loss: 0.0901 - accuracy: 0.9691 - 818ms/epoch - 3ms/step\n",
      "Epoch 45/100\n",
      "240/240 - 0s - loss: 0.0920 - accuracy: 0.9733 - 377ms/epoch - 2ms/step\n",
      "Epoch 46/100\n",
      "240/240 - 0s - loss: 0.0921 - accuracy: 0.9704 - 312ms/epoch - 1ms/step\n",
      "Epoch 47/100\n",
      "240/240 - 0s - loss: 0.0870 - accuracy: 0.9746 - 284ms/epoch - 1ms/step\n",
      "Epoch 48/100\n",
      "240/240 - 0s - loss: 0.0900 - accuracy: 0.9758 - 332ms/epoch - 1ms/step\n",
      "Epoch 49/100\n",
      "240/240 - 0s - loss: 0.0827 - accuracy: 0.9733 - 341ms/epoch - 1ms/step\n",
      "Epoch 50/100\n",
      "240/240 - 0s - loss: 0.0911 - accuracy: 0.9716 - 388ms/epoch - 2ms/step\n",
      "Epoch 51/100\n",
      "240/240 - 0s - loss: 0.0812 - accuracy: 0.9758 - 364ms/epoch - 2ms/step\n",
      "Epoch 52/100\n",
      "240/240 - 0s - loss: 0.0761 - accuracy: 0.9758 - 407ms/epoch - 2ms/step\n",
      "Epoch 53/100\n",
      "240/240 - 0s - loss: 0.0803 - accuracy: 0.9729 - 278ms/epoch - 1ms/step\n",
      "Epoch 54/100\n",
      "240/240 - 0s - loss: 0.0829 - accuracy: 0.9733 - 306ms/epoch - 1ms/step\n",
      "Epoch 55/100\n",
      "240/240 - 1s - loss: 0.0844 - accuracy: 0.9741 - 691ms/epoch - 3ms/step\n",
      "Epoch 56/100\n",
      "240/240 - 0s - loss: 0.0768 - accuracy: 0.9754 - 353ms/epoch - 1ms/step\n",
      "Epoch 57/100\n",
      "240/240 - 0s - loss: 0.0718 - accuracy: 0.9775 - 292ms/epoch - 1ms/step\n",
      "Epoch 58/100\n",
      "240/240 - 1s - loss: 0.0790 - accuracy: 0.9750 - 544ms/epoch - 2ms/step\n",
      "Epoch 59/100\n",
      "240/240 - 1s - loss: 0.0736 - accuracy: 0.9737 - 786ms/epoch - 3ms/step\n",
      "Epoch 60/100\n",
      "240/240 - 1s - loss: 0.0822 - accuracy: 0.9741 - 609ms/epoch - 3ms/step\n",
      "Epoch 61/100\n",
      "240/240 - 0s - loss: 0.0752 - accuracy: 0.9762 - 411ms/epoch - 2ms/step\n",
      "Epoch 62/100\n",
      "240/240 - 0s - loss: 0.0833 - accuracy: 0.9704 - 286ms/epoch - 1ms/step\n",
      "Epoch 63/100\n",
      "240/240 - 0s - loss: 0.0721 - accuracy: 0.9787 - 318ms/epoch - 1ms/step\n",
      "Epoch 64/100\n",
      "240/240 - 1s - loss: 0.0729 - accuracy: 0.9791 - 641ms/epoch - 3ms/step\n",
      "Epoch 65/100\n",
      "240/240 - 1s - loss: 0.0738 - accuracy: 0.9758 - 500ms/epoch - 2ms/step\n",
      "Epoch 66/100\n",
      "240/240 - 1s - loss: 0.0798 - accuracy: 0.9746 - 559ms/epoch - 2ms/step\n",
      "Epoch 67/100\n",
      "240/240 - 0s - loss: 0.0730 - accuracy: 0.9791 - 482ms/epoch - 2ms/step\n",
      "Epoch 68/100\n",
      "240/240 - 0s - loss: 0.0816 - accuracy: 0.9746 - 359ms/epoch - 1ms/step\n",
      "Epoch 69/100\n",
      "240/240 - 1s - loss: 0.0665 - accuracy: 0.9791 - 553ms/epoch - 2ms/step\n",
      "Epoch 70/100\n",
      "240/240 - 0s - loss: 0.0716 - accuracy: 0.9758 - 293ms/epoch - 1ms/step\n",
      "Epoch 71/100\n",
      "240/240 - 1s - loss: 0.0755 - accuracy: 0.9733 - 617ms/epoch - 3ms/step\n",
      "Epoch 72/100\n",
      "240/240 - 1s - loss: 0.0696 - accuracy: 0.9762 - 617ms/epoch - 3ms/step\n",
      "Epoch 73/100\n",
      "240/240 - 1s - loss: 0.0731 - accuracy: 0.9758 - 669ms/epoch - 3ms/step\n",
      "Epoch 74/100\n",
      "240/240 - 1s - loss: 0.0659 - accuracy: 0.9791 - 658ms/epoch - 3ms/step\n",
      "Epoch 75/100\n",
      "240/240 - 1s - loss: 0.0687 - accuracy: 0.9791 - 622ms/epoch - 3ms/step\n",
      "Epoch 76/100\n",
      "240/240 - 1s - loss: 0.0666 - accuracy: 0.9804 - 598ms/epoch - 2ms/step\n",
      "Epoch 77/100\n",
      "240/240 - 1s - loss: 0.0677 - accuracy: 0.9758 - 604ms/epoch - 3ms/step\n",
      "Epoch 78/100\n",
      "240/240 - 1s - loss: 0.0692 - accuracy: 0.9779 - 594ms/epoch - 2ms/step\n",
      "Epoch 79/100\n",
      "240/240 - 0s - loss: 0.0558 - accuracy: 0.9837 - 368ms/epoch - 2ms/step\n",
      "Epoch 80/100\n",
      "240/240 - 0s - loss: 0.0631 - accuracy: 0.9812 - 286ms/epoch - 1ms/step\n",
      "Epoch 81/100\n",
      "240/240 - 0s - loss: 0.0526 - accuracy: 0.9825 - 291ms/epoch - 1ms/step\n",
      "Epoch 82/100\n",
      "240/240 - 1s - loss: 0.0588 - accuracy: 0.9821 - 591ms/epoch - 2ms/step\n",
      "Epoch 83/100\n",
      "240/240 - 0s - loss: 0.0622 - accuracy: 0.9808 - 268ms/epoch - 1ms/step\n",
      "Epoch 84/100\n",
      "240/240 - 0s - loss: 0.0627 - accuracy: 0.9783 - 294ms/epoch - 1ms/step\n",
      "Epoch 85/100\n",
      "240/240 - 0s - loss: 0.0607 - accuracy: 0.9800 - 385ms/epoch - 2ms/step\n",
      "Epoch 86/100\n",
      "240/240 - 0s - loss: 0.0568 - accuracy: 0.9821 - 275ms/epoch - 1ms/step\n",
      "Epoch 87/100\n",
      "240/240 - 0s - loss: 0.0667 - accuracy: 0.9804 - 262ms/epoch - 1ms/step\n",
      "Epoch 88/100\n",
      "240/240 - 0s - loss: 0.0580 - accuracy: 0.9808 - 289ms/epoch - 1ms/step\n",
      "Epoch 89/100\n",
      "240/240 - 0s - loss: 0.0581 - accuracy: 0.9816 - 333ms/epoch - 1ms/step\n",
      "Epoch 90/100\n",
      "240/240 - 0s - loss: 0.0643 - accuracy: 0.9816 - 248ms/epoch - 1ms/step\n",
      "Epoch 91/100\n",
      "240/240 - 0s - loss: 0.0575 - accuracy: 0.9800 - 364ms/epoch - 2ms/step\n",
      "Epoch 92/100\n",
      "240/240 - 0s - loss: 0.0642 - accuracy: 0.9783 - 247ms/epoch - 1ms/step\n",
      "Epoch 93/100\n",
      "240/240 - 0s - loss: 0.0467 - accuracy: 0.9879 - 252ms/epoch - 1ms/step\n",
      "Epoch 94/100\n",
      "240/240 - 0s - loss: 0.0553 - accuracy: 0.9808 - 241ms/epoch - 1ms/step\n",
      "Epoch 95/100\n",
      "240/240 - 0s - loss: 0.0598 - accuracy: 0.9821 - 275ms/epoch - 1ms/step\n",
      "Epoch 96/100\n",
      "240/240 - 0s - loss: 0.0575 - accuracy: 0.9825 - 311ms/epoch - 1ms/step\n",
      "Epoch 97/100\n",
      "240/240 - 0s - loss: 0.0656 - accuracy: 0.9825 - 297ms/epoch - 1ms/step\n"
     ]
    },
    {
     "name": "stdout",
     "output_type": "stream",
     "text": [
      "Epoch 98/100\n",
      "240/240 - 0s - loss: 0.0544 - accuracy: 0.9862 - 307ms/epoch - 1ms/step\n",
      "Epoch 99/100\n",
      "240/240 - 0s - loss: 0.0567 - accuracy: 0.9812 - 272ms/epoch - 1ms/step\n",
      "Epoch 100/100\n",
      "240/240 - 0s - loss: 0.0604 - accuracy: 0.9829 - 307ms/epoch - 1ms/step\n"
     ]
    },
    {
     "data": {
      "text/plain": [
       "GridSearchCV(estimator=<keras.wrappers.scikit_learn.KerasClassifier object at 0x000002CEDB946550>,\n",
       "             n_jobs=-1,\n",
       "             param_grid={'batch_size': [10, 20, 40, 60, 80, 100],\n",
       "                         'epochs': [10, 20, 50, 100]})"
      ]
     },
     "execution_count": 83,
     "metadata": {},
     "output_type": "execute_result"
    }
   ],
   "source": [
    "grid = GridSearchCV(estimator=nn, param_grid=grid_params, n_jobs = -1)\n",
    "grid.fit(X_train, Y_train)\n"
   ]
  },
  {
   "cell_type": "code",
   "execution_count": 84,
   "metadata": {},
   "outputs": [
    {
     "name": "stdout",
     "output_type": "stream",
     "text": [
      "{'batch_size': 10, 'epochs': 100}\n"
     ]
    }
   ],
   "source": [
    "print(grid.best_params_)"
   ]
  },
  {
   "cell_type": "code",
   "execution_count": 86,
   "metadata": {},
   "outputs": [
    {
     "name": "stdout",
     "output_type": "stream",
     "text": [
      "[[507   7]\n",
      " [  1 513]]\n"
     ]
    }
   ],
   "source": [
    "pred=grid.predict(X_test)\n",
    "pred=np.where(pred > 0.5, 1, 0)\n",
    "cm=confusion_matrix(Y_test, pred)\n",
    "print(cm)"
   ]
  },
  {
   "cell_type": "code",
   "execution_count": 87,
   "metadata": {},
   "outputs": [
    {
     "name": "stdout",
     "output_type": "stream",
     "text": [
      "Testset Accuracy: 0.9922178988326849\n"
     ]
    }
   ],
   "source": [
    "accuracy=(cm[0,0]+cm[1,1])/sum(sum(cm))\n",
    "print(\"Testset Accuracy:\", accuracy)"
   ]
  },
  {
   "cell_type": "markdown",
   "metadata": {},
   "source": [
    "# Neural Network (MLP)"
   ]
  },
  {
   "cell_type": "markdown",
   "metadata": {},
   "source": [
    "### Base Model"
   ]
  },
  {
   "cell_type": "code",
   "execution_count": 88,
   "metadata": {},
   "outputs": [],
   "source": [
    "mlp = MLPClassifier(solver='lbfgs', hidden_layer_sizes=(6,2), random_state=seed)"
   ]
  },
  {
   "cell_type": "code",
   "execution_count": 89,
   "metadata": {},
   "outputs": [
    {
     "data": {
      "text/plain": [
       "MLPClassifier(hidden_layer_sizes=(6, 2), random_state=100, solver='lbfgs')"
      ]
     },
     "execution_count": 89,
     "metadata": {},
     "output_type": "execute_result"
    }
   ],
   "source": [
    "mlp.fit(X_train, Y_train)"
   ]
  },
  {
   "cell_type": "code",
   "execution_count": 90,
   "metadata": {},
   "outputs": [
    {
     "name": "stdout",
     "output_type": "stream",
     "text": [
      "Trainset Accuracy:  1.0\n"
     ]
    },
    {
     "data": {
      "image/png": "[encoded data removed]",
      "text/plain": [
       "<Figure size 432x288 with 2 Axes>"
      ]
     },
     "metadata": {
      "needs_background": "light"
     },
     "output_type": "display_data"
    }
   ],
   "source": [
    "# Trainset\n",
    "evaluate(X_train, Y_train, mlp, \"Trainset\")"
   ]
  },
  {
   "cell_type": "code",
   "execution_count": 91,
   "metadata": {},
   "outputs": [
    {
     "name": "stdout",
     "output_type": "stream",
     "text": [
      "Trainset Accuracy:  0.9990272373540856\n"
     ]
    },
    {
     "data": {
      "image/png": "[encoded data removed]",
      "text/plain": [
       "<Figure size 432x288 with 2 Axes>"
      ]
     },
     "metadata": {
      "needs_background": "light"
     },
     "output_type": "display_data"
    }
   ],
   "source": [
    "# Testset\n",
    "evaluate(X_test, Y_test, mlp, \"Trainset\")"
   ]
  },
  {
   "cell_type": "markdown",
   "metadata": {},
   "source": [
    "### Hyperparameter Tuning"
   ]
  },
  {
   "cell_type": "code",
   "execution_count": 92,
   "metadata": {},
   "outputs": [],
   "source": [
    "grid_params ={\n",
    "            \"solver\": [\"lbfgs\", \"sgd\", \"adam\"]\n",
    "            }"
   ]
  },
  {
   "cell_type": "code",
   "execution_count": 93,
   "metadata": {},
   "outputs": [],
   "source": [
    "mlp = MLPClassifier(solver='lbfgs', hidden_layer_sizes=(6,2), random_state=seed)"
   ]
  },
  {
   "cell_type": "code",
   "execution_count": 94,
   "metadata": {},
   "outputs": [
    {
     "name": "stderr",
     "output_type": "stream",
     "text": [
      "C:\\Users\\jacks\\anaconda3\\lib\\site-packages\\sklearn\\neural_network\\_multilayer_perceptron.py:692: ConvergenceWarning: Stochastic Optimizer: Maximum iterations (200) reached and the optimization hasn't converged yet.\n",
      "  warnings.warn(\n",
      "C:\\Users\\jacks\\anaconda3\\lib\\site-packages\\sklearn\\neural_network\\_multilayer_perceptron.py:692: ConvergenceWarning: Stochastic Optimizer: Maximum iterations (200) reached and the optimization hasn't converged yet.\n",
      "  warnings.warn(\n",
      "C:\\Users\\jacks\\anaconda3\\lib\\site-packages\\sklearn\\neural_network\\_multilayer_perceptron.py:692: ConvergenceWarning: Stochastic Optimizer: Maximum iterations (200) reached and the optimization hasn't converged yet.\n",
      "  warnings.warn(\n",
      "C:\\Users\\jacks\\anaconda3\\lib\\site-packages\\sklearn\\neural_network\\_multilayer_perceptron.py:692: ConvergenceWarning: Stochastic Optimizer: Maximum iterations (200) reached and the optimization hasn't converged yet.\n",
      "  warnings.warn(\n",
      "C:\\Users\\jacks\\anaconda3\\lib\\site-packages\\sklearn\\neural_network\\_multilayer_perceptron.py:692: ConvergenceWarning: Stochastic Optimizer: Maximum iterations (200) reached and the optimization hasn't converged yet.\n",
      "  warnings.warn(\n",
      "C:\\Users\\jacks\\anaconda3\\lib\\site-packages\\sklearn\\neural_network\\_multilayer_perceptron.py:692: ConvergenceWarning: Stochastic Optimizer: Maximum iterations (200) reached and the optimization hasn't converged yet.\n",
      "  warnings.warn(\n",
      "C:\\Users\\jacks\\anaconda3\\lib\\site-packages\\sklearn\\neural_network\\_multilayer_perceptron.py:692: ConvergenceWarning: Stochastic Optimizer: Maximum iterations (200) reached and the optimization hasn't converged yet.\n",
      "  warnings.warn(\n",
      "C:\\Users\\jacks\\anaconda3\\lib\\site-packages\\sklearn\\neural_network\\_multilayer_perceptron.py:692: ConvergenceWarning: Stochastic Optimizer: Maximum iterations (200) reached and the optimization hasn't converged yet.\n",
      "  warnings.warn(\n",
      "C:\\Users\\jacks\\anaconda3\\lib\\site-packages\\sklearn\\neural_network\\_multilayer_perceptron.py:692: ConvergenceWarning: Stochastic Optimizer: Maximum iterations (200) reached and the optimization hasn't converged yet.\n",
      "  warnings.warn(\n",
      "C:\\Users\\jacks\\anaconda3\\lib\\site-packages\\sklearn\\neural_network\\_multilayer_perceptron.py:692: ConvergenceWarning: Stochastic Optimizer: Maximum iterations (200) reached and the optimization hasn't converged yet.\n",
      "  warnings.warn(\n"
     ]
    },
    {
     "data": {
      "text/plain": [
       "GridSearchCV(estimator=MLPClassifier(hidden_layer_sizes=(6, 2),\n",
       "                                     random_state=100, solver='lbfgs'),\n",
       "             param_grid={'solver': ['lbfgs', 'sgd', 'adam']})"
      ]
     },
     "execution_count": 94,
     "metadata": {},
     "output_type": "execute_result"
    }
   ],
   "source": [
    "grid = GridSearchCV(mlp, grid_params)\n",
    "grid.fit(X_train, Y_train)"
   ]
  },
  {
   "cell_type": "code",
   "execution_count": 95,
   "metadata": {},
   "outputs": [
    {
     "name": "stdout",
     "output_type": "stream",
     "text": [
      "{'solver': 'lbfgs'}\n"
     ]
    }
   ],
   "source": [
    "print(grid.best_params_)\n",
    "# Same as solver used in base model, hence the tuned model will be the same as the base model"
   ]
  },
  {
   "cell_type": "code",
   "execution_count": 98,
   "metadata": {},
   "outputs": [
    {
     "data": {
      "text/plain": [
       "['Logreg']"
      ]
     },
     "execution_count": 98,
     "metadata": {},
     "output_type": "execute_result"
    }
   ],
   "source": [
    "joblib.dump(logreg, \"Logreg\")"
   ]
  },
  {
   "cell_type": "code",
   "execution_count": 99,
   "metadata": {},
   "outputs": [
    {
     "data": {
      "text/plain": [
       "['CART']"
      ]
     },
     "execution_count": 99,
     "metadata": {},
     "output_type": "execute_result"
    }
   ],
   "source": [
    "joblib.dump(cart, \"CART\")"
   ]
  },
  {
   "cell_type": "code",
   "execution_count": 100,
   "metadata": {},
   "outputs": [
    {
     "data": {
      "text/plain": [
       "['RF']"
      ]
     },
     "execution_count": 100,
     "metadata": {},
     "output_type": "execute_result"
    }
   ],
   "source": [
    "joblib.dump(rf, \"RF\")"
   ]
  },
  {
   "cell_type": "code",
   "execution_count": 101,
   "metadata": {},
   "outputs": [
    {
     "data": {
      "text/plain": [
       "['XGB']"
      ]
     },
     "execution_count": 101,
     "metadata": {},
     "output_type": "execute_result"
    }
   ],
   "source": [
    "joblib.dump(xgb,\"XGB\")"
   ]
  },
  {
   "cell_type": "code",
   "execution_count": 102,
   "metadata": {},
   "outputs": [
    {
     "data": {
      "text/plain": [
       "['NN']"
      ]
     },
     "execution_count": 102,
     "metadata": {},
     "output_type": "execute_result"
    }
   ],
   "source": [
    "joblib.dump(nn, \"NN\")"
   ]
  },
  {
   "cell_type": "code",
   "execution_count": 103,
   "metadata": {},
   "outputs": [
    {
     "data": {
      "text/plain": [
       "['MLP']"
      ]
     },
     "execution_count": 103,
     "metadata": {},
     "output_type": "execute_result"
    }
   ],
   "source": [
    "joblib.dump(mlp, \"MLP\")"
   ]
  },
  {
   "cell_type": "code",
   "execution_count": null,
   "metadata": {},
   "outputs": [],
   "source": []
  }
 ],
 "metadata": {
  "kernelspec": {
   "display_name": "Python 3",
   "language": "python",
   "name": "python3"
  },
  "language_info": {
   "codemirror_mode": {
    "name": "ipython",
    "version": 3
   },
   "file_extension": ".py",
   "mimetype": "text/x-python",
   "name": "python",
   "nbconvert_exporter": "python",
   "pygments_lexer": "ipython3",
   "version": "3.8.3"
  }
 },
 "nbformat": 4,
 "nbformat_minor": 4
}
