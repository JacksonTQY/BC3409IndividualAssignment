{
 "cells": [
  {
   "cell_type": "code",
   "execution_count": 8,
   "metadata": {},
   "outputs": [],
   "source": [
    "import joblib"
   ]
  },
  {
   "cell_type": "code",
   "execution_count": 9,
   "metadata": {},
   "outputs": [],
   "source": [
    "model = joblib.load(\"XGB\")"
   ]
  },
  {
   "cell_type": "code",
   "execution_count": 15,
   "metadata": {},
   "outputs": [
    {
     "name": "stderr",
     "output_type": "stream",
     "text": [
      "C:\\Users\\jacks\\anaconda3\\lib\\site-packages\\sklearn\\base.py:450: UserWarning: X does not have valid feature names, but GradientBoostingClassifier was fitted with feature names\n",
      "  warnings.warn(\n"
     ]
    },
    {
     "data": {
      "text/plain": [
       "array([1], dtype=int64)"
      ]
     },
     "execution_count": 15,
     "metadata": {},
     "output_type": "execute_result"
    }
   ],
   "source": [
    "model.predict([[66952.68885,18.58433593,8770.099235]])"
   ]
  },
  {
   "cell_type": "code",
   "execution_count": 16,
   "metadata": {},
   "outputs": [
    {
     "name": "stderr",
     "output_type": "stream",
     "text": [
      "C:\\Users\\jacks\\anaconda3\\lib\\site-packages\\sklearn\\base.py:450: UserWarning: X does not have valid feature names, but GradientBoostingClassifier was fitted with feature names\n",
      "  warnings.warn(\n"
     ]
    },
    {
     "data": {
      "text/plain": [
       "array([1], dtype=int64)"
      ]
     },
     "execution_count": 16,
     "metadata": {},
     "output_type": "execute_result"
    }
   ],
   "source": [
    "model.predict([[66953,19,8770]])"
   ]
  },
  {
   "cell_type": "code",
   "execution_count": 17,
   "metadata": {},
   "outputs": [],
   "source": [
    "import pandas as pd\n",
    "from scipy import stats"
   ]
  },
  {
   "cell_type": "code",
   "execution_count": 21,
   "metadata": {},
   "outputs": [
    {
     "data": {
      "text/html": [
       "<div>\n",
       "<style scoped>\n",
       "    .dataframe tbody tr th:only-of-type {\n",
       "        vertical-align: middle;\n",
       "    }\n",
       "\n",
       "    .dataframe tbody tr th {\n",
       "        vertical-align: top;\n",
       "    }\n",
       "\n",
       "    .dataframe thead th {\n",
       "        text-align: right;\n",
       "    }\n",
       "</style>\n",
       "<table border=\"1\" class=\"dataframe\">\n",
       "  <thead>\n",
       "    <tr style=\"text-align: right;\">\n",
       "      <th></th>\n",
       "      <th>income</th>\n",
       "      <th>age</th>\n",
       "      <th>loan</th>\n",
       "    </tr>\n",
       "  </thead>\n",
       "  <tbody>\n",
       "    <tr>\n",
       "      <th>0</th>\n",
       "      <td>1.457403</td>\n",
       "      <td>1.909165</td>\n",
       "      <td>0.792201</td>\n",
       "    </tr>\n",
       "    <tr>\n",
       "      <th>1</th>\n",
       "      <td>-0.743092</td>\n",
       "      <td>1.047710</td>\n",
       "      <td>0.306524</td>\n",
       "    </tr>\n",
       "    <tr>\n",
       "      <th>2</th>\n",
       "      <td>0.844638</td>\n",
       "      <td>2.232494</td>\n",
       "      <td>0.765243</td>\n",
       "    </tr>\n",
       "    <tr>\n",
       "      <th>3</th>\n",
       "      <td>-0.168066</td>\n",
       "      <td>0.860782</td>\n",
       "      <td>0.161272</td>\n",
       "    </tr>\n",
       "    <tr>\n",
       "      <th>4</th>\n",
       "      <td>1.512641</td>\n",
       "      <td>-1.286373</td>\n",
       "      <td>1.001231</td>\n",
       "    </tr>\n",
       "    <tr>\n",
       "      <th>...</th>\n",
       "      <td>...</td>\n",
       "      <td>...</td>\n",
       "      <td>...</td>\n",
       "    </tr>\n",
       "    <tr>\n",
       "      <th>3423</th>\n",
       "      <td>1.093247</td>\n",
       "      <td>-1.021644</td>\n",
       "      <td>1.504295</td>\n",
       "    </tr>\n",
       "    <tr>\n",
       "      <th>3424</th>\n",
       "      <td>1.185622</td>\n",
       "      <td>-0.776711</td>\n",
       "      <td>0.785072</td>\n",
       "    </tr>\n",
       "    <tr>\n",
       "      <th>3425</th>\n",
       "      <td>-1.354369</td>\n",
       "      <td>-0.672598</td>\n",
       "      <td>-0.561212</td>\n",
       "    </tr>\n",
       "    <tr>\n",
       "      <th>3426</th>\n",
       "      <td>0.210089</td>\n",
       "      <td>-0.926167</td>\n",
       "      <td>0.295469</td>\n",
       "    </tr>\n",
       "    <tr>\n",
       "      <th>3427</th>\n",
       "      <td>-0.837331</td>\n",
       "      <td>-0.677398</td>\n",
       "      <td>-0.075549</td>\n",
       "    </tr>\n",
       "  </tbody>\n",
       "</table>\n",
       "<p>3425 rows × 3 columns</p>\n",
       "</div>"
      ],
      "text/plain": [
       "        income       age      loan\n",
       "0     1.457403  1.909165  0.792201\n",
       "1    -0.743092  1.047710  0.306524\n",
       "2     0.844638  2.232494  0.765243\n",
       "3    -0.168066  0.860782  0.161272\n",
       "4     1.512641 -1.286373  1.001231\n",
       "...        ...       ...       ...\n",
       "3423  1.093247 -1.021644  1.504295\n",
       "3424  1.185622 -0.776711  0.785072\n",
       "3425 -1.354369 -0.672598 -0.561212\n",
       "3426  0.210089 -0.926167  0.295469\n",
       "3427 -0.837331 -0.677398 -0.075549\n",
       "\n",
       "[3425 rows x 3 columns]"
      ]
     },
     "execution_count": 21,
     "metadata": {},
     "output_type": "execute_result"
    }
   ],
   "source": [
    "df = pd.read_csv(\"./Credit Card Default II (Balance).csv\")\n",
    "df = df[df['age'] > 0]\n",
    "\n",
    "X = df.drop(\"default\", axis=1)\n",
    "Y = df.default\n",
    "\n",
    "# Normalisation\n",
    "X_scaled = X.copy()\n",
    "\n",
    "for i in X.columns:\n",
    "    X_scaled[i]=stats.zscore(X[i].astype(float))\n",
    "\n",
    "X_scaled"
   ]
  },
  {
   "cell_type": "code",
   "execution_count": 28,
   "metadata": {},
   "outputs": [
    {
     "name": "stderr",
     "output_type": "stream",
     "text": [
      "C:\\Users\\jacks\\anaconda3\\lib\\site-packages\\sklearn\\base.py:450: UserWarning: X does not have valid feature names, but GradientBoostingClassifier was fitted with feature names\n",
      "  warnings.warn(\n"
     ]
    },
    {
     "data": {
      "text/plain": [
       "array([0], dtype=int64)"
      ]
     },
     "execution_count": 28,
     "metadata": {},
     "output_type": "execute_result"
    }
   ],
   "source": [
    "model.predict([[1.512641,1.286373,3]])"
   ]
  },
  {
   "cell_type": "code",
   "execution_count": 20,
   "metadata": {},
   "outputs": [
    {
     "data": {
      "text/html": [
       "<div>\n",
       "<style scoped>\n",
       "    .dataframe tbody tr th:only-of-type {\n",
       "        vertical-align: middle;\n",
       "    }\n",
       "\n",
       "    .dataframe tbody tr th {\n",
       "        vertical-align: top;\n",
       "    }\n",
       "\n",
       "    .dataframe thead th {\n",
       "        text-align: right;\n",
       "    }\n",
       "</style>\n",
       "<table border=\"1\" class=\"dataframe\">\n",
       "  <thead>\n",
       "    <tr style=\"text-align: right;\">\n",
       "      <th></th>\n",
       "      <th>income</th>\n",
       "      <th>age</th>\n",
       "      <th>loan</th>\n",
       "    </tr>\n",
       "  </thead>\n",
       "  <tbody>\n",
       "    <tr>\n",
       "      <th>0</th>\n",
       "      <td>1.457403</td>\n",
       "      <td>1.909165</td>\n",
       "      <td>0.792201</td>\n",
       "    </tr>\n",
       "    <tr>\n",
       "      <th>1</th>\n",
       "      <td>-0.743092</td>\n",
       "      <td>1.047710</td>\n",
       "      <td>0.306524</td>\n",
       "    </tr>\n",
       "    <tr>\n",
       "      <th>2</th>\n",
       "      <td>0.844638</td>\n",
       "      <td>2.232494</td>\n",
       "      <td>0.765243</td>\n",
       "    </tr>\n",
       "    <tr>\n",
       "      <th>3</th>\n",
       "      <td>-0.168066</td>\n",
       "      <td>0.860782</td>\n",
       "      <td>0.161272</td>\n",
       "    </tr>\n",
       "    <tr>\n",
       "      <th>4</th>\n",
       "      <td>1.512641</td>\n",
       "      <td>-1.286373</td>\n",
       "      <td>1.001231</td>\n",
       "    </tr>\n",
       "    <tr>\n",
       "      <th>...</th>\n",
       "      <td>...</td>\n",
       "      <td>...</td>\n",
       "      <td>...</td>\n",
       "    </tr>\n",
       "    <tr>\n",
       "      <th>3423</th>\n",
       "      <td>1.093247</td>\n",
       "      <td>-1.021644</td>\n",
       "      <td>1.504295</td>\n",
       "    </tr>\n",
       "    <tr>\n",
       "      <th>3424</th>\n",
       "      <td>1.185622</td>\n",
       "      <td>-0.776711</td>\n",
       "      <td>0.785072</td>\n",
       "    </tr>\n",
       "    <tr>\n",
       "      <th>3425</th>\n",
       "      <td>-1.354369</td>\n",
       "      <td>-0.672598</td>\n",
       "      <td>-0.561212</td>\n",
       "    </tr>\n",
       "    <tr>\n",
       "      <th>3426</th>\n",
       "      <td>0.210089</td>\n",
       "      <td>-0.926167</td>\n",
       "      <td>0.295469</td>\n",
       "    </tr>\n",
       "    <tr>\n",
       "      <th>3427</th>\n",
       "      <td>-0.837331</td>\n",
       "      <td>-0.677398</td>\n",
       "      <td>-0.075549</td>\n",
       "    </tr>\n",
       "  </tbody>\n",
       "</table>\n",
       "<p>3425 rows × 3 columns</p>\n",
       "</div>"
      ],
      "text/plain": [
       "        income       age      loan\n",
       "0     1.457403  1.909165  0.792201\n",
       "1    -0.743092  1.047710  0.306524\n",
       "2     0.844638  2.232494  0.765243\n",
       "3    -0.168066  0.860782  0.161272\n",
       "4     1.512641 -1.286373  1.001231\n",
       "...        ...       ...       ...\n",
       "3423  1.093247 -1.021644  1.504295\n",
       "3424  1.185622 -0.776711  0.785072\n",
       "3425 -1.354369 -0.672598 -0.561212\n",
       "3426  0.210089 -0.926167  0.295469\n",
       "3427 -0.837331 -0.677398 -0.075549\n",
       "\n",
       "[3425 rows x 3 columns]"
      ]
     },
     "execution_count": 20,
     "metadata": {},
     "output_type": "execute_result"
    }
   ],
   "source": [
    "\n",
    "income = 6993\n",
    "age = 19\n",
    "loan = 8770\n",
    "print(\"income, age, loan:\", income, age, loan)\n",
    "df.append({'income': income, 'age': age, 'loan': loan}, ignore_index = True)\n",
    "\n",
    "# Normalisation\n",
    "for col in columns:\n",
    "    df[col] = stats.zscore(df[col])\n",
    "\n",
    "inputs = list(df.loc[len(df), [\"income\", \"age\", \"loan\"]])\n",
    "income = inputs[0]\n",
    "age = inputs[1]\n",
    "loan = inputs[2]\n",
    "\n",
    "\n",
    "model = joblib.load(\"XGB\")\n",
    "model.predict([[income,age,loan]])"
   ]
  },
  {
   "cell_type": "code",
   "execution_count": null,
   "metadata": {},
   "outputs": [],
   "source": []
  }
 ],
 "metadata": {
  "kernelspec": {
   "display_name": "Python 3",
   "language": "python",
   "name": "python3"
  },
  "language_info": {
   "codemirror_mode": {
    "name": "ipython",
    "version": 3
   },
   "file_extension": ".py",
   "mimetype": "text/x-python",
   "name": "python",
   "nbconvert_exporter": "python",
   "pygments_lexer": "ipython3",
   "version": "3.8.3"
  }
 },
 "nbformat": 4,
 "nbformat_minor": 4
}
